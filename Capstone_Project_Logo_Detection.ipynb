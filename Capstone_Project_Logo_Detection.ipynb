{
  "nbformat": 4,
  "nbformat_minor": 0,
  "metadata": {
    "colab": {
      "name": "Capstone Project - Logo Detection.ipynb",
      "provenance": [],
      "toc_visible": true,
      "authorship_tag": "ABX9TyP0eVdNEscjwlX5Tgtg7WhP",
      "include_colab_link": true
    },
    "kernelspec": {
      "name": "python3",
      "display_name": "Python 3"
    }
  },
  "cells": [
    {
      "cell_type": "markdown",
      "metadata": {
        "id": "view-in-github",
        "colab_type": "text"
      },
      "source": [
        "<a href=\"https://colab.research.google.com/github/volinhbao/CS114.K21.KHTN/blob/master/Capstone_Project_Logo_Detection.ipynb\" target=\"_parent\"><img src=\"https://colab.research.google.com/assets/colab-badge.svg\" alt=\"Open In Colab\"/></a>"
      ]
    },
    {
      "cell_type": "code",
      "metadata": {
        "id": "TkzIQth4uNSA",
        "colab_type": "code",
        "colab": {}
      },
      "source": [
        "##"
      ],
      "execution_count": 0,
      "outputs": []
    },
    {
      "cell_type": "markdown",
      "metadata": {
        "id": "750M3xX0uav9",
        "colab_type": "text"
      },
      "source": [
        "##Input/Output\n",
        "- Input: a picture of a car in-front or backward\n",
        "- Ouput: the brand of that car\n",
        "\n",
        "##Dataset Description\n",
        "- **How to build**: use mobile devices with high-quality camera (such as iPhone 7 plus) to take pictures of cars in **the basements of shopping malls**, **apartments** in Ho Chi Minh City (district 9 and Thu Duc)\n",
        "\n",
        "- **Quantity**: hopefully 10000 samples (100 students, augmentation may be used if neccessary)\n",
        "- **Pre-processing**: detect and label for logo in the pictures\n",
        "- Data split: 70% for training set and 30% for testing sets\n",
        "\n",
        "##Feature Engineering\n",
        "\n",
        "##ML Algorithm\n",
        "- Use CNN in PyTorch\n",
        "\n",
        "##Evaluate \n"
      ]
    },
    {
      "cell_type": "code",
      "metadata": {
        "id": "RRLMIYfh0LOG",
        "colab_type": "code",
        "colab": {}
      },
      "source": [
        ""
      ],
      "execution_count": 0,
      "outputs": []
    }
  ]
}