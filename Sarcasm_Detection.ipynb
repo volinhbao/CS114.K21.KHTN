{
  "nbformat": 4,
  "nbformat_minor": 0,
  "metadata": {
    "kernelspec": {
      "display_name": "Python 3",
      "language": "python",
      "name": "python3"
    },
    "language_info": {
      "codemirror_mode": {
        "name": "ipython",
        "version": 3
      },
      "file_extension": ".py",
      "mimetype": "text/x-python",
      "name": "python",
      "nbconvert_exporter": "python",
      "pygments_lexer": "ipython3",
      "version": "3.7.7"
    },
    "colab": {
      "name": "Sarcasm Detection.ipynb",
      "provenance": [],
      "collapsed_sections": [],
      "toc_visible": true,
      "include_colab_link": true
    }
  },
  "cells": [
    {
      "cell_type": "markdown",
      "metadata": {
        "id": "view-in-github",
        "colab_type": "text"
      },
      "source": [
        "<a href=\"https://colab.research.google.com/github/volinhbao/CS114.K21.KHTN/blob/master/Sarcasm_Detection.ipynb\" target=\"_parent\"><img src=\"https://colab.research.google.com/assets/colab-badge.svg\" alt=\"Open In Colab\"/></a>"
      ]
    },
    {
      "cell_type": "markdown",
      "metadata": {
        "id": "9PeCqphTxwl-",
        "colab_type": "text"
      },
      "source": [
        "<h1><center><font color=blue>Sarcasm Detection</font></center></h1>"
      ]
    },
    {
      "cell_type": "markdown",
      "metadata": {
        "id": "oenRi06R_j8F",
        "colab_type": "text"
      },
      "source": [
        "**Học trò**\n",
        "\n",
        "1.   Võ Linh Bảo - 18520503\n",
        "2.   Nguyễn Văn Tiến - 18521489\n",
        "\n",
        "\n",
        "**Lớp**: CS114.K21.KHTN2018\n"
      ]
    },
    {
      "cell_type": "code",
      "metadata": {
        "id": "eQKt1D-rxwl_",
        "colab_type": "code",
        "colab": {
          "base_uri": "https://localhost:8080/",
          "height": 51
        },
        "outputId": "14b7b4dd-5c22-4d06-f762-d1386dd94a74"
      },
      "source": [
        "from google.colab import drive\n",
        "drive.mount('/gdrive')\n",
        "%cd /gdrive/My Drive/School_UIT/Semester IV/[CS114] Machine Learning/Working/CS114.K21.KHTN/CaseStudy/SarcsamDetection/"
      ],
      "execution_count": null,
      "outputs": [
        {
          "output_type": "stream",
          "text": [
            "Drive already mounted at /gdrive; to attempt to forcibly remount, call drive.mount(\"/gdrive\", force_remount=True).\n",
            "/gdrive/My Drive/School_UIT/Semester IV/[CS114] Machine Learning/Working/CS114.K21.KHTN/CaseStudy/SarcsamDetection\n"
          ],
          "name": "stdout"
        }
      ]
    },
    {
      "cell_type": "code",
      "metadata": {
        "id": "UMTBuV0-_7h1",
        "colab_type": "code",
        "colab": {}
      },
      "source": [
        "import numpy as np\n",
        "import pandas as pd\n",
        "import os\n",
        "from sklearn.feature_extraction.text import CountVectorizer\n",
        "from sklearn.linear_model import LogisticRegression\n",
        "from sklearn.neighbors import KNeighborsClassifier\n",
        "from sklearn.ensemble import RandomForestClassifier\n",
        "from sklearn.pipeline import make_pipeline\n",
        "from sklearn.preprocessing import StandardScaler\n",
        "from sklearn.svm import SVC\n",
        "from sklearn.naive_bayes import GaussianNB\n",
        "from sklearn.metrics import accuracy_score, confusion_matrix, classification_report"
      ],
      "execution_count": null,
      "outputs": []
    },
    {
      "cell_type": "markdown",
      "metadata": {
        "id": "bsNzOGXTxwmD",
        "colab_type": "text"
      },
      "source": [
        "## 1. Mô tả bài toán"
      ]
    },
    {
      "cell_type": "markdown",
      "metadata": {
        "id": "hhLnQ9yfxwmE",
        "colab_type": "text"
      },
      "source": [
        "- Link tham khảo bài toán: [News Headlines Dataset For Sarcasm Detection\n",
        "](https://www.kaggle.com/rmisra/news-headlines-dataset-for-sarcasm-detection)"
      ]
    },
    {
      "cell_type": "markdown",
      "metadata": {
        "id": "KUf3mb0gxwmE",
        "colab_type": "text"
      },
      "source": [
        "- Nội dung bài toán: Phát hiện trong một câu văn/đoạn văn có tính chất châm biếm hay không (bài toán phân lớp nhị phân).\n",
        "\n",
        "- Input: một câu văn/đoạn văn bằng tiếng anh.\n",
        "\n",
        "- Output: Giá trị 0 (non-sarcasm) hoặc 1 (sarcasm) thể hiện câu văn/đoạn văn đầu vào có tính chất châm biếm hay không."
      ]
    },
    {
      "cell_type": "markdown",
      "metadata": {
        "id": "NIZNbknrxwmF",
        "colab_type": "text"
      },
      "source": [
        "## 2. Quan sát dữ liệu"
      ]
    },
    {
      "cell_type": "code",
      "metadata": {
        "id": "AXi2MlmSylL_",
        "colab_type": "code",
        "colab": {}
      },
      "source": [
        "DATA_PATH ='dataset/'"
      ],
      "execution_count": null,
      "outputs": []
    },
    {
      "cell_type": "code",
      "metadata": {
        "id": "LybWuGC-xwmL",
        "colab_type": "code",
        "colab": {
          "base_uri": "https://localhost:8080/",
          "height": 238
        },
        "outputId": "d48693f8-0d0b-4130-baa7-e3094a456513"
      },
      "source": [
        "for dirname, _, filenames in os.walk(DATA_PATH):\n",
        "    for filename in filenames:\n",
        "        print(os.path.join(dirname, filename))"
      ],
      "execution_count": null,
      "outputs": [
        {
          "output_type": "stream",
          "text": [
            "dataset/Sarcasm_Headlines_Dataset_v2.json\n",
            "dataset/Sarcasm_Headlines_Dataset.json\n",
            "dataset/headlines2.txt\n",
            "dataset/test_data.csv\n",
            "dataset/crawl/sarcastic/huffpost_new_headlines.csv\n",
            "dataset/crawl/sarcastic/entertainment_headline_huffpost.csv\n",
            "dataset/crawl/sarcastic/personal_headline_huffpost.csv\n",
            "dataset/crawl/sarcastic/shopping_headline_huffpost.csv\n",
            "dataset/crawl/sarcastic/huffpost_headlines.csv.xlsx\n",
            "dataset/crawl/non-sarcastic/theonion_headlines.csv\n",
            "dataset/crawl/videos/huffpost_headline_scraper.mp4.mp4\n",
            "dataset/crawl/videos/merge_data_huffpost.mp4.mp4\n",
            "dataset/crawl/videos/theonion_headlines.mp4.mp4\n"
          ],
          "name": "stdout"
        }
      ]
    },
    {
      "cell_type": "code",
      "metadata": {
        "id": "M725rcVAxwmQ",
        "colab_type": "code",
        "colab": {}
      },
      "source": [
        "file1 = pd.read_json('dataset/Sarcasm_Headlines_Dataset.json', lines=True)\n",
        "file2 = pd.read_json('dataset/Sarcasm_Headlines_Dataset_v2.json', lines=True)"
      ],
      "execution_count": null,
      "outputs": []
    },
    {
      "cell_type": "code",
      "metadata": {
        "id": "mvKUTPGzzgzS",
        "colab_type": "code",
        "colab": {
          "base_uri": "https://localhost:8080/",
          "height": 204
        },
        "outputId": "acd38cff-4e20-4495-88e7-ad88b4908f4a"
      },
      "source": [
        "# Nối hai tập dữ liệu\n",
        "df = pd.concat([file1,file2],axis=0,sort=False)\n",
        "\n",
        "# Xem thông tin 5 sample đầu tiên trong tập dữ liệu\n",
        "df.head()"
      ],
      "execution_count": null,
      "outputs": [
        {
          "output_type": "execute_result",
          "data": {
            "text/html": [
              "<div>\n",
              "<style scoped>\n",
              "    .dataframe tbody tr th:only-of-type {\n",
              "        vertical-align: middle;\n",
              "    }\n",
              "\n",
              "    .dataframe tbody tr th {\n",
              "        vertical-align: top;\n",
              "    }\n",
              "\n",
              "    .dataframe thead th {\n",
              "        text-align: right;\n",
              "    }\n",
              "</style>\n",
              "<table border=\"1\" class=\"dataframe\">\n",
              "  <thead>\n",
              "    <tr style=\"text-align: right;\">\n",
              "      <th></th>\n",
              "      <th>article_link</th>\n",
              "      <th>headline</th>\n",
              "      <th>is_sarcastic</th>\n",
              "    </tr>\n",
              "  </thead>\n",
              "  <tbody>\n",
              "    <tr>\n",
              "      <th>0</th>\n",
              "      <td>https://www.huffingtonpost.com/entry/versace-b...</td>\n",
              "      <td>former versace store clerk sues over secret 'b...</td>\n",
              "      <td>0</td>\n",
              "    </tr>\n",
              "    <tr>\n",
              "      <th>1</th>\n",
              "      <td>https://www.huffingtonpost.com/entry/roseanne-...</td>\n",
              "      <td>the 'roseanne' revival catches up to our thorn...</td>\n",
              "      <td>0</td>\n",
              "    </tr>\n",
              "    <tr>\n",
              "      <th>2</th>\n",
              "      <td>https://local.theonion.com/mom-starting-to-fea...</td>\n",
              "      <td>mom starting to fear son's web series closest ...</td>\n",
              "      <td>1</td>\n",
              "    </tr>\n",
              "    <tr>\n",
              "      <th>3</th>\n",
              "      <td>https://politics.theonion.com/boehner-just-wan...</td>\n",
              "      <td>boehner just wants wife to listen, not come up...</td>\n",
              "      <td>1</td>\n",
              "    </tr>\n",
              "    <tr>\n",
              "      <th>4</th>\n",
              "      <td>https://www.huffingtonpost.com/entry/jk-rowlin...</td>\n",
              "      <td>j.k. rowling wishes snape happy birthday in th...</td>\n",
              "      <td>0</td>\n",
              "    </tr>\n",
              "  </tbody>\n",
              "</table>\n",
              "</div>"
            ],
            "text/plain": [
              "                                        article_link  ... is_sarcastic\n",
              "0  https://www.huffingtonpost.com/entry/versace-b...  ...            0\n",
              "1  https://www.huffingtonpost.com/entry/roseanne-...  ...            0\n",
              "2  https://local.theonion.com/mom-starting-to-fea...  ...            1\n",
              "3  https://politics.theonion.com/boehner-just-wan...  ...            1\n",
              "4  https://www.huffingtonpost.com/entry/jk-rowlin...  ...            0\n",
              "\n",
              "[5 rows x 3 columns]"
            ]
          },
          "metadata": {
            "tags": []
          },
          "execution_count": 6
        }
      ]
    },
    {
      "cell_type": "code",
      "metadata": {
        "id": "WrNVy4iEzrB6",
        "colab_type": "code",
        "colab": {
          "base_uri": "https://localhost:8080/",
          "height": 170
        },
        "outputId": "c358489f-288c-4d32-e451-b0ff2a257a1c"
      },
      "source": [
        "# Bỏ thông tin article_link\n",
        "df = df.drop('article_link', axis=1)\n",
        "df.info()"
      ],
      "execution_count": null,
      "outputs": [
        {
          "output_type": "stream",
          "text": [
            "<class 'pandas.core.frame.DataFrame'>\n",
            "Int64Index: 55328 entries, 0 to 28618\n",
            "Data columns (total 2 columns):\n",
            " #   Column        Non-Null Count  Dtype \n",
            "---  ------        --------------  ----- \n",
            " 0   headline      55328 non-null  object\n",
            " 1   is_sarcastic  55328 non-null  int64 \n",
            "dtypes: int64(1), object(1)\n",
            "memory usage: 1.3+ MB\n"
          ],
          "name": "stdout"
        }
      ]
    },
    {
      "cell_type": "markdown",
      "metadata": {
        "id": "d_-V7jav0hFp",
        "colab_type": "text"
      },
      "source": [
        "Một vài nhận xét:\n",
        "\n",
        "\n",
        "*   Tập dữ liệu có tổng cộng 55328 mẫu dữ liệu, mỗi mẫu dữ liệu là một câu văn tiếng anh.\n",
        "\n"
      ]
    },
    {
      "cell_type": "markdown",
      "metadata": {
        "id": "mDpkirY50vvn",
        "colab_type": "text"
      },
      "source": [
        "## 3. Rút trích đặt trưng"
      ]
    },
    {
      "cell_type": "code",
      "metadata": {
        "id": "5rRFNTp81EEZ",
        "colab_type": "code",
        "colab": {}
      },
      "source": [
        "X = df['headline']\n",
        "y = df['is_sarcastic']"
      ],
      "execution_count": null,
      "outputs": []
    },
    {
      "cell_type": "markdown",
      "metadata": {
        "id": "cgoLt1Iinwuu",
        "colab_type": "text"
      },
      "source": [
        "*Bài viết tham khảo* : [How to Develop a Deep Learning Bag-of-Words Model for Sentiment Analysis (Text Classification)](https://machinelearningmastery.com/deep-learning-bag-of-words-model-sentiment-analysis/)"
      ]
    },
    {
      "cell_type": "markdown",
      "metadata": {
        "id": "8w3o2vyA5f2x",
        "colab_type": "text"
      },
      "source": [
        "Sử dụng phương pháp BoW để rút trích đặt trưng."
      ]
    },
    {
      "cell_type": "markdown",
      "metadata": {
        "id": "7W8PYwUtEcPN",
        "colab_type": "text"
      },
      "source": [
        "- Định nghĩa danh sách các `stopwords` (từ không mang giá trị thông tin trong câu)."
      ]
    },
    {
      "cell_type": "code",
      "metadata": {
        "id": "eMeLufNREk6A",
        "colab_type": "code",
        "colab": {}
      },
      "source": [
        "stopwords = {'ourselves', 'hers', 'between', 'yourself', 'but',\n",
        "             'again', 'there', 'about', 'once', 'during', 'out',\n",
        "             'very', 'having', 'with', 'they', 'own', 'an', 'be',\n",
        "             'some', 'for', 'do', 'its', 'yours', 'such', 'into',\n",
        "             'of', 'most', 'itself', 'other', 'off', 'is', 's', 'am',\n",
        "             'or', 'who', 'as', 'from', 'him', 'each', 'the', 'themselves',\n",
        "             'until', 'below', 'are', 'we', 'these', 'your', 'his', 'through',\n",
        "             'don', 'nor', 'me', 'were', 'her', 'more', 'himself', 'this', 'down',\n",
        "             'should', 'our', 'their', 'while', 'above', 'both', 'up', 'to', 'ours',\n",
        "             'had', 'she', 'all', 'no', 'when', 'at', 'any', 'before', 'them', 'same',\n",
        "             'and', 'been', 'have', 'in', 'will', 'on', 'does', 'yourselves', 'then',\n",
        "             'that', 'because', 'what', 'over', 'why', 'so', 'can', 'did', 'not', 'now',\n",
        "             'under', 'he', 'you', 'herself', 'has', 'just', 'where', 'too', 'only', 'myself',\n",
        "             'which', 'those', 'i', 'after', 'few', 'whom', 't', 'being', 'if', 'theirs', 'my',\n",
        "             'against', 'a', 'by', 'doing', 'it', 'how', 'further', 'was', 'here', 'than'}"
      ],
      "execution_count": null,
      "outputs": []
    },
    {
      "cell_type": "code",
      "metadata": {
        "id": "gQ_awB770dp1",
        "colab_type": "code",
        "colab": {}
      },
      "source": [
        "# Sử dụng thư viện sklearn lấy thông tin ma trận token từ tập dữ liệu X\n",
        "cv = CountVectorizer()\n",
        "\n",
        "X = cv.fit_transform(X)"
      ],
      "execution_count": null,
      "outputs": []
    },
    {
      "cell_type": "markdown",
      "metadata": {
        "id": "nBCg3OlOAZp9",
        "colab_type": "text"
      },
      "source": [
        "Phân chia tập dữ liệu theo tỉ lệ `80%` dữ liệu huấn luyện và `20%` dữ liệu kiểm thử."
      ]
    },
    {
      "cell_type": "code",
      "metadata": {
        "id": "IG9dIw4S0Luf",
        "colab_type": "code",
        "colab": {}
      },
      "source": [
        "from sklearn.model_selection import train_test_split\n",
        "X_train, X_test, y_train, y_test = train_test_split(X, y, test_size=0.2,random_state=42)"
      ],
      "execution_count": null,
      "outputs": []
    },
    {
      "cell_type": "markdown",
      "metadata": {
        "id": "tyXikSfW3gvM",
        "colab_type": "text"
      },
      "source": [
        "## 5. Chọn mô hình và huấn luyện thuật toán"
      ]
    },
    {
      "cell_type": "code",
      "metadata": {
        "id": "19brBN01HTH2",
        "colab_type": "code",
        "colab": {}
      },
      "source": [
        "Logistic_model = LogisticRegression()\n",
        "KNN_model = KNeighborsClassifier(n_neighbors=3)\n",
        "RandomForest_model = RandomForestClassifier()\n",
        "Bayes_model = GaussianNB()\n",
        "SVM_model = make_pipeline(StandardScaler(), SVC(gamma='auto'))"
      ],
      "execution_count": null,
      "outputs": []
    },
    {
      "cell_type": "markdown",
      "metadata": {
        "id": "sPc-WBYcNyhA",
        "colab_type": "text"
      },
      "source": [
        "### Sử dụng mô hình Logistic"
      ]
    },
    {
      "cell_type": "code",
      "metadata": {
        "id": "Ne6hd9nL4TCI",
        "colab_type": "code",
        "colab": {
          "base_uri": "https://localhost:8080/",
          "height": 377
        },
        "outputId": "7093beb9-27cc-464c-ce93-b379ad4560bb"
      },
      "source": [
        "Logistic_model.fit(X_train, y_train)\n",
        "print(\"- The accuracy of logistic model on training set is {}\".format(Logistic_model.score(X_train, y_train)))\n",
        "logistic_pred = Logistic_model.predict(X_test)\n",
        "print(\"- The accuracy of logistic model on test set is {}\".format(accuracy_score(y_true=y_test, y_pred=logistic_pred)))\n",
        "print(\"- Confusion matrix: \\n{}\".format(classification_report(y_true=y_test, y_pred=logistic_pred)))"
      ],
      "execution_count": null,
      "outputs": [
        {
          "output_type": "stream",
          "text": [
            "- The accuracy of logistic model on training set is 0.9690479418010934\n",
            "- The accuracy of logistic model on test set is 0.9225555756370866\n",
            "- Confusion matrix: \n",
            "              precision    recall  f1-score   support\n",
            "\n",
            "           0       0.92      0.94      0.93      5878\n",
            "           1       0.93      0.90      0.92      5188\n",
            "\n",
            "    accuracy                           0.92     11066\n",
            "   macro avg       0.92      0.92      0.92     11066\n",
            "weighted avg       0.92      0.92      0.92     11066\n",
            "\n"
          ],
          "name": "stdout"
        },
        {
          "output_type": "stream",
          "text": [
            "/usr/local/lib/python3.6/dist-packages/sklearn/linear_model/_logistic.py:940: ConvergenceWarning: lbfgs failed to converge (status=1):\n",
            "STOP: TOTAL NO. of ITERATIONS REACHED LIMIT.\n",
            "\n",
            "Increase the number of iterations (max_iter) or scale the data as shown in:\n",
            "    https://scikit-learn.org/stable/modules/preprocessing.html\n",
            "Please also refer to the documentation for alternative solver options:\n",
            "    https://scikit-learn.org/stable/modules/linear_model.html#logistic-regression\n",
            "  extra_warning_msg=_LOGISTIC_SOLVER_CONVERGENCE_MSG)\n"
          ],
          "name": "stderr"
        }
      ]
    },
    {
      "cell_type": "markdown",
      "metadata": {
        "id": "5jKkje1cN4t_",
        "colab_type": "text"
      },
      "source": [
        "### Sử dụng mô hình k-nestest neighbords (kNN)"
      ]
    },
    {
      "cell_type": "code",
      "metadata": {
        "id": "_Jjxf3lqKFRU",
        "colab_type": "code",
        "colab": {
          "base_uri": "https://localhost:8080/",
          "height": 221
        },
        "outputId": "d5d5f761-2110-47c3-864a-555be1c71a61"
      },
      "source": [
        "KNN_model.fit(X_train, y_train)\n",
        "print(\"- The accuracy of kNN model on training set is {}\".format(KNN_model.score(X_train, y_train)))\n",
        "knn_pred = KNN_model.predict(X_test)\n",
        "print(\"- The accuracy of kNN model on test set is {}\".format(accuracy_score(y_true=y_test, y_pred=knn_pred)))\n",
        "print(\"- Confusion matrix: \\n{}\".format(classification_report(y_true=y_test, y_pred=knn_pred)))"
      ],
      "execution_count": null,
      "outputs": [
        {
          "output_type": "stream",
          "text": [
            "- The accuracy of kNN model on training set is 0.9302787944512223\n",
            "- The accuracy of kNN model on test set is 0.7045002711006687\n",
            "- Confusion matrix: \n",
            "              precision    recall  f1-score   support\n",
            "\n",
            "           0       0.66      0.90      0.76      5878\n",
            "           1       0.80      0.49      0.61      5188\n",
            "\n",
            "    accuracy                           0.70     11066\n",
            "   macro avg       0.73      0.69      0.69     11066\n",
            "weighted avg       0.73      0.70      0.69     11066\n",
            "\n"
          ],
          "name": "stdout"
        }
      ]
    },
    {
      "cell_type": "markdown",
      "metadata": {
        "id": "CMcfgtIZO9RD",
        "colab_type": "text"
      },
      "source": [
        "### Mô hình Random Forest"
      ]
    },
    {
      "cell_type": "code",
      "metadata": {
        "id": "GA940kR_KDOR",
        "colab_type": "code",
        "colab": {
          "base_uri": "https://localhost:8080/",
          "height": 221
        },
        "outputId": "86f233e8-b51a-4545-8fc9-2aceb327065a"
      },
      "source": [
        "RandomForest_model.fit(X_train, y_train)\n",
        "print(\"- The accuracy of random forest model on training set is {}\".format(RandomForest_model.score(X_train, y_train)))\n",
        "radforest_pred = RandomForest_model.predict(X_test)\n",
        "print(\"- The accuracy of random forest model on test set is {}\".format(accuracy_score(y_true=y_test, y_pred=radforest_pred)))\n",
        "print(\"- Confusion matrix: \\n{}\".format(classification_report(y_true=y_test, y_pred=radforest_pred)))"
      ],
      "execution_count": null,
      "outputs": [
        {
          "output_type": "stream",
          "text": [
            "- The accuracy of random forest model on training set is 1.0\n",
            "- The accuracy of random forest model on test set is 0.9549972889933128\n",
            "- Confusion matrix: \n",
            "              precision    recall  f1-score   support\n",
            "\n",
            "           0       0.95      0.97      0.96      5878\n",
            "           1       0.96      0.94      0.95      5188\n",
            "\n",
            "    accuracy                           0.95     11066\n",
            "   macro avg       0.96      0.95      0.95     11066\n",
            "weighted avg       0.96      0.95      0.95     11066\n",
            "\n"
          ],
          "name": "stdout"
        }
      ]
    },
    {
      "cell_type": "markdown",
      "metadata": {
        "id": "ED3VLXg6PCzY",
        "colab_type": "text"
      },
      "source": [
        "### <strike>Mô hình Naive Bayes</strike> <font color=red>Tràn RAM ???</font>"
      ]
    },
    {
      "cell_type": "code",
      "metadata": {
        "id": "7OU_cfaePF19",
        "colab_type": "code",
        "colab": {}
      },
      "source": [
        "#Bayes_model.fit(X_train.toarray(), y_train)\n",
        "#print(\"- The accuracy of Naive Bayes model on training set is {}\".format(Bayes_model.score(X_train, y_train)))\n",
        "#bayes_pred = Bayes_model.predict(X_test)\n",
        "#print(\"- The accuracy of logistic model on test set is {}\".format(accuracy_score(y_true=y_test, y_pred=bayes_pred)))\n",
        "#print(\"- Confusion matrix: \\n{}\".format(classification_report(y_true=y_test, y_pred=bayes_pred)))"
      ],
      "execution_count": null,
      "outputs": []
    },
    {
      "cell_type": "markdown",
      "metadata": {
        "id": "bU_1VVvUOXpz",
        "colab_type": "text"
      },
      "source": [
        "### <strike>Mô hình Support Vector Machine (SVM)</strike>"
      ]
    },
    {
      "cell_type": "code",
      "metadata": {
        "id": "BChP3ibrKBF_",
        "colab_type": "code",
        "colab": {}
      },
      "source": [
        "# SVM_model.fit(X_train, y_train)\n",
        "# print(\"- The accuracy of SVM model on training set is {}\".format(SVM_model.score(X_train, y_train)))\n",
        "# svm_pred = SVM_model.predict(X_test)\n",
        "# print(\"- The accuracy of logistic model on test set is {}\".format(accuracy_score(y_true=y_test, y_pred=svm_pred)))\n",
        "# print(\"- Confusion matrix: \\n{}\".format(classification_report(y_true=y_test, y_pred=svm_pred)))"
      ],
      "execution_count": null,
      "outputs": []
    },
    {
      "cell_type": "markdown",
      "metadata": {
        "id": "f6-aNMwBTJlJ",
        "colab_type": "text"
      },
      "source": [
        "## 5. Đánh giá mô hình trên tập dữ liệu mới\n",
        "\n",
        "Tóm tắt quá trình crawl dữ liệu:\n",
        "- Sử dụng một extension của Google Chrome đó là [Web Scraper browser extension](https://webscraper.io/).\n",
        "- *Quá trình crawl dữ liệu được ghi lại trong video, xem tại [đây](https://drive.google.com/drive/folders/1mL-WJZk-nrmRvAIp0Ms2kQdSxLhd77jo?usp=sharing)*"
      ]
    },
    {
      "cell_type": "markdown",
      "metadata": {
        "id": "ruWgTh3W31hW",
        "colab_type": "text"
      },
      "source": [
        "\n",
        "### Load dữ liệu"
      ]
    },
    {
      "cell_type": "code",
      "metadata": {
        "id": "5ieS2wWaTNkg",
        "colab_type": "code",
        "colab": {}
      },
      "source": [
        "NEW_TEST_DATA = pd.read_csv('dataset/test_data.csv')"
      ],
      "execution_count": null,
      "outputs": []
    },
    {
      "cell_type": "markdown",
      "metadata": {
        "id": "eY2ad5n82wj3",
        "colab_type": "text"
      },
      "source": [
        "Tóm tắt thông tin của tập dữ liệu mới"
      ]
    },
    {
      "cell_type": "code",
      "metadata": {
        "id": "Dr1Jhygl-cgF",
        "colab_type": "code",
        "colab": {
          "base_uri": "https://localhost:8080/",
          "height": 204
        },
        "outputId": "1607b5fc-2a9a-4430-a5ba-8a638a323ef7"
      },
      "source": [
        "NEW_TEST_DATA.head()"
      ],
      "execution_count": null,
      "outputs": [
        {
          "output_type": "execute_result",
          "data": {
            "text/html": [
              "<div>\n",
              "<style scoped>\n",
              "    .dataframe tbody tr th:only-of-type {\n",
              "        vertical-align: middle;\n",
              "    }\n",
              "\n",
              "    .dataframe tbody tr th {\n",
              "        vertical-align: top;\n",
              "    }\n",
              "\n",
              "    .dataframe thead th {\n",
              "        text-align: right;\n",
              "    }\n",
              "</style>\n",
              "<table border=\"1\" class=\"dataframe\">\n",
              "  <thead>\n",
              "    <tr style=\"text-align: right;\">\n",
              "      <th></th>\n",
              "      <th>headline</th>\n",
              "      <th>is_sarcastic</th>\n",
              "    </tr>\n",
              "  </thead>\n",
              "  <tbody>\n",
              "    <tr>\n",
              "      <th>0</th>\n",
              "      <td>BirthdayForBreonna Marks What Would've Been Br...</td>\n",
              "      <td>0</td>\n",
              "    </tr>\n",
              "    <tr>\n",
              "      <th>1</th>\n",
              "      <td>TheShowMustBePaused Was Eclipsed By #BlackOutT...</td>\n",
              "      <td>0</td>\n",
              "    </tr>\n",
              "    <tr>\n",
              "      <th>2</th>\n",
              "      <td>Again, Again, Again!' Exclaims Clapping, Grinn...</td>\n",
              "      <td>1</td>\n",
              "    </tr>\n",
              "    <tr>\n",
              "      <th>3</th>\n",
              "      <td>And Then There Were 23,' Says Wayne Messam Cro...</td>\n",
              "      <td>1</td>\n",
              "    </tr>\n",
              "    <tr>\n",
              "      <th>4</th>\n",
              "      <td>And Then Those 12 People Send It To 12 People ...</td>\n",
              "      <td>1</td>\n",
              "    </tr>\n",
              "  </tbody>\n",
              "</table>\n",
              "</div>"
            ],
            "text/plain": [
              "                                            headline  is_sarcastic\n",
              "0  BirthdayForBreonna Marks What Would've Been Br...             0\n",
              "1  TheShowMustBePaused Was Eclipsed By #BlackOutT...             0\n",
              "2  Again, Again, Again!' Exclaims Clapping, Grinn...             1\n",
              "3  And Then There Were 23,' Says Wayne Messam Cro...             1\n",
              "4  And Then Those 12 People Send It To 12 People ...             1"
            ]
          },
          "metadata": {
            "tags": []
          },
          "execution_count": 19
        }
      ]
    },
    {
      "cell_type": "code",
      "metadata": {
        "id": "KJMn36q02Ewl",
        "colab_type": "code",
        "colab": {
          "base_uri": "https://localhost:8080/",
          "height": 170
        },
        "outputId": "a6a45cee-90ad-4856-8113-f164999b630b"
      },
      "source": [
        "NEW_TEST_DATA.info()"
      ],
      "execution_count": null,
      "outputs": [
        {
          "output_type": "stream",
          "text": [
            "<class 'pandas.core.frame.DataFrame'>\n",
            "RangeIndex: 2159 entries, 0 to 2158\n",
            "Data columns (total 2 columns):\n",
            " #   Column        Non-Null Count  Dtype \n",
            "---  ------        --------------  ----- \n",
            " 0   headline      2159 non-null   object\n",
            " 1   is_sarcastic  2159 non-null   int64 \n",
            "dtypes: int64(1), object(1)\n",
            "memory usage: 33.9+ KB\n"
          ],
          "name": "stdout"
        }
      ]
    },
    {
      "cell_type": "markdown",
      "metadata": {
        "id": "u-u0IeO43BcH",
        "colab_type": "text"
      },
      "source": [
        "Tỉ lệ các lớp trong tập dữ liệu"
      ]
    },
    {
      "cell_type": "code",
      "metadata": {
        "id": "Dk9jdqad3RbG",
        "colab_type": "code",
        "colab": {
          "base_uri": "https://localhost:8080/",
          "height": 68
        },
        "outputId": "6baf1c14-561d-4e83-a3f1-95f4e72aa53c"
      },
      "source": [
        "NEW_TEST_DATA['is_sarcastic'].value_counts()"
      ],
      "execution_count": null,
      "outputs": [
        {
          "output_type": "execute_result",
          "data": {
            "text/plain": [
              "0    1156\n",
              "1    1003\n",
              "Name: is_sarcastic, dtype: int64"
            ]
          },
          "metadata": {
            "tags": []
          },
          "execution_count": 21
        }
      ]
    },
    {
      "cell_type": "markdown",
      "metadata": {
        "id": "0Zyb5Y6z3qSY",
        "colab_type": "text"
      },
      "source": [
        "*Nhận xét*: Tỉ lệ xấp xỉ 5/5 nên tập dữ liệu không mất tính cân bằng."
      ]
    },
    {
      "cell_type": "code",
      "metadata": {
        "id": "ciRx4IKG6caR",
        "colab_type": "code",
        "colab": {}
      },
      "source": [
        "new_X_test = NEW_TEST_DATA['headline']\n",
        "new_Y_test = NEW_TEST_DATA['is_sarcastic']"
      ],
      "execution_count": null,
      "outputs": []
    },
    {
      "cell_type": "markdown",
      "metadata": {
        "id": "5QzqXqt937YK",
        "colab_type": "text"
      },
      "source": [
        "### Rút trích đặc trưng từ tập dữ liệu mới bằng phương từ bộ điển được xây dựng dựa trên tập dữ liệu huấn luyện"
      ]
    },
    {
      "cell_type": "markdown",
      "metadata": {
        "id": "1ymqp9PB63Y_",
        "colab_type": "text"
      },
      "source": [
        "**Không quan tâm đến các từ chưa *nhìn thấy* có trong tập dữ liệu mới** "
      ]
    },
    {
      "cell_type": "code",
      "metadata": {
        "id": "Ifel-U473m7G",
        "colab_type": "code",
        "colab": {}
      },
      "source": [
        "new_X_test = cv.transform(new_X_test)"
      ],
      "execution_count": null,
      "outputs": []
    },
    {
      "cell_type": "code",
      "metadata": {
        "id": "pJVMMgUV6E9q",
        "colab_type": "code",
        "colab": {}
      },
      "source": [
        "new_logistic_pred = Logistic_model.predict(new_X_test)\n",
        "new_kNN_pred = KNN_model.predict(new_X_test)\n",
        "new_radforest_pred = RandomForest_model.predict(new_X_test)"
      ],
      "execution_count": null,
      "outputs": []
    },
    {
      "cell_type": "code",
      "metadata": {
        "id": "T7u-3DPp6s2Q",
        "colab_type": "code",
        "colab": {
          "base_uri": "https://localhost:8080/",
          "height": 204
        },
        "outputId": "5409ac74-e5d4-4e5a-84e6-d2a4dacb43ed"
      },
      "source": [
        "# Đánh giá mô hình logistic regression trên tập dữ liệu kiểm thử mới \n",
        "print(\"- The accuracy of logistic model on test set is {}\".format(accuracy_score(y_true=new_Y_test, y_pred=new_logistic_pred)))\n",
        "print(\"- Confusion matrix: \\n{}\".format(classification_report(y_true=new_Y_test, y_pred=new_logistic_pred)))"
      ],
      "execution_count": null,
      "outputs": [
        {
          "output_type": "stream",
          "text": [
            "- The accuracy of logistic model on test set is 0.762389995368226\n",
            "- Confusion matrix: \n",
            "              precision    recall  f1-score   support\n",
            "\n",
            "           0       0.74      0.85      0.79      1156\n",
            "           1       0.80      0.66      0.72      1003\n",
            "\n",
            "    accuracy                           0.76      2159\n",
            "   macro avg       0.77      0.76      0.76      2159\n",
            "weighted avg       0.77      0.76      0.76      2159\n",
            "\n"
          ],
          "name": "stdout"
        }
      ]
    },
    {
      "cell_type": "code",
      "metadata": {
        "id": "FNDHkFMV8fkZ",
        "colab_type": "code",
        "colab": {
          "base_uri": "https://localhost:8080/",
          "height": 204
        },
        "outputId": "52d289f6-c2b1-4e8c-a84e-c449c993f330"
      },
      "source": [
        "# Đánh giá mô hình kNN trên tập dữ liệu kiểm thử mới \n",
        "print(\"- The accuracy of kNN model on test set is {}\".format(accuracy_score(y_true=new_Y_test, y_pred=new_kNN_pred)))\n",
        "print(\"- Confusion matrix: \\n{}\".format(classification_report(y_true=new_Y_test, y_pred=new_kNN_pred)))"
      ],
      "execution_count": null,
      "outputs": [
        {
          "output_type": "stream",
          "text": [
            "- The accuracy of kNN model on test set is 0.6104678091709125\n",
            "- Confusion matrix: \n",
            "              precision    recall  f1-score   support\n",
            "\n",
            "           0       0.60      0.84      0.70      1156\n",
            "           1       0.65      0.35      0.45      1003\n",
            "\n",
            "    accuracy                           0.61      2159\n",
            "   macro avg       0.62      0.59      0.57      2159\n",
            "weighted avg       0.62      0.61      0.58      2159\n",
            "\n"
          ],
          "name": "stdout"
        }
      ]
    },
    {
      "cell_type": "code",
      "metadata": {
        "id": "XPMJrn968p8E",
        "colab_type": "code",
        "colab": {
          "base_uri": "https://localhost:8080/",
          "height": 204
        },
        "outputId": "4e053330-50a9-4279-ed3d-0cec5c9b86c7"
      },
      "source": [
        "# Đánh giá mô hình Random Forest trên tập dữ liệu kiểm thử mới \n",
        "print(\"- The accuracy of Random Forest model on test set is {}\".format(accuracy_score(y_true=new_Y_test, y_pred=new_radforest_pred)))\n",
        "print(\"- Confusion matrix: \\n{}\".format(classification_report(y_true=new_Y_test, y_pred=new_radforest_pred)))"
      ],
      "execution_count": null,
      "outputs": [
        {
          "output_type": "stream",
          "text": [
            "- The accuracy of Random Forest model on test set is 0.7744326076887448\n",
            "- Confusion matrix: \n",
            "              precision    recall  f1-score   support\n",
            "\n",
            "           0       0.75      0.86      0.80      1156\n",
            "           1       0.81      0.67      0.74      1003\n",
            "\n",
            "    accuracy                           0.77      2159\n",
            "   macro avg       0.78      0.77      0.77      2159\n",
            "weighted avg       0.78      0.77      0.77      2159\n",
            "\n"
          ],
          "name": "stdout"
        }
      ]
    },
    {
      "cell_type": "markdown",
      "metadata": {
        "id": "Yoz8pdfe9ERS",
        "colab_type": "text"
      },
      "source": [
        "**Nhận xét**\n",
        "\n",
        "Mô hình cho kết quả không tốt trên tập dữ liệu kiểm thử so với kết quả của tập dữ liệu kiểm thử được phân chia từ tập dữ liệu ban đầu có sẵn.  <i>Tập dữ liệu mới có chứa các từ `unseen` vì vậy tập từ điển mà chúng ta xây dựng trong khâu rút trích đặc trưng không bao quát được dẫn đến các classifier của chúng ta không thể `capture` được thông tin từ các từ mới này.</i>"
      ]
    },
    {
      "cell_type": "markdown",
      "metadata": {
        "id": "9fqDsKV0CKoQ",
        "colab_type": "text"
      },
      "source": [
        "---\n",
        "\n",
        "\n",
        "*Tham khảo*\n",
        "\n",
        "- [How to Develop a Deep Learning Bag-of-Words Model for Sentiment Analysis (Text Classification)](https://machinelearningmastery.com/deep-learning-bag-of-words-model-sentiment-analysis/)\n",
        "- [sklearn.feature_extraction.text.CountVectorizer](https://scikit-learn.org/stable/modules/generated/sklearn.feature_extraction.text.CountVectorizer.html)\n",
        "- [Web Scaper Browser Extension](https://webscraper.io/)\n",
        "- [Removing stop words with NLTK in Python](https://www.geeksforgeeks.org/removing-stop-words-nltk-python/#:~:text=Stop%20Words%3A%20A%20stop%20word,result%20of%20a%20search%20query.&text=To%20check%20the%20list%20of,commands%20in%20the%20python%20shell.)"
      ]
    },
    {
      "cell_type": "markdown",
      "metadata": {
        "id": "rsetFWbgC9aD",
        "colab_type": "text"
      },
      "source": [
        "<b><i><center>---- Hết ----</center></i></b>"
      ]
    }
  ]
}