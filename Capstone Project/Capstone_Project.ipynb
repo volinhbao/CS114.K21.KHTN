{
  "nbformat": 4,
  "nbformat_minor": 0,
  "metadata": {
    "colab": {
      "name": "Capstone Project.ipynb",
      "provenance": [],
      "collapsed_sections": [],
      "toc_visible": true,
      "authorship_tag": "ABX9TyPFX6HrwpiSRqub3rwKldH3",
      "include_colab_link": true
    },
    "kernelspec": {
      "name": "python3",
      "display_name": "Python 3"
    }
  },
  "cells": [
    {
      "cell_type": "markdown",
      "metadata": {
        "id": "view-in-github",
        "colab_type": "text"
      },
      "source": [
        "<a href=\"https://colab.research.google.com/github/volinhbao/CS114.K21.KHTN/blob/master/Capstone%20Project/Capstone_Project.ipynb\" target=\"_parent\"><img src=\"https://colab.research.google.com/assets/colab-badge.svg\" alt=\"Open In Colab\"/></a>"
      ]
    },
    {
      "cell_type": "markdown",
      "metadata": {
        "id": "rIgoroUxmXQa",
        "colab_type": "text"
      },
      "source": [
        "#**Movie Reviews Analysis**\n",
        "\n",
        "---\n",
        "\n"
      ]
    },
    {
      "cell_type": "markdown",
      "metadata": {
        "id": "GqqYVp3WnBqg",
        "colab_type": "text"
      },
      "source": [
        "# Description:\n",
        "- This is a classification problem. In this problem, we will detect a review is whether **positive** or **negative**. Since then, we can give advice to the user that whether they should watch that film."
      ]
    },
    {
      "cell_type": "markdown",
      "metadata": {
        "id": "RV40pcNwpnQs",
        "colab_type": "text"
      },
      "source": [
        "# Dataset\n",
        "This dataset consists of 6285 reviews from IMDB. Those which has 9 or 10 rating will be labelled **positive**, whereas those which has 4 rating and below will be labelled **negative**.\n",
        "\n",
        "This dataset is **balanced** between the positive reviews (3125 reviews) and negative reviews (3144 reviews)."
      ]
    },
    {
      "cell_type": "code",
      "metadata": {
        "id": "3QLcEXc2rYzQ",
        "colab_type": "code",
        "colab": {}
      },
      "source": [
        "import pandas as pd\n"
      ],
      "execution_count": null,
      "outputs": []
    },
    {
      "cell_type": "code",
      "metadata": {
        "id": "s5FBzIa5lECp",
        "colab_type": "code",
        "colab": {
          "base_uri": "https://localhost:8080/",
          "height": 35
        },
        "outputId": "e22f8b83-a463-4103-d9c5-59968622b0a6"
      },
      "source": [
        "!git clone https://github.com/volinhbao/CS114.K21.KHTN.git"
      ],
      "execution_count": null,
      "outputs": [
        {
          "output_type": "stream",
          "text": [
            "fatal: destination path 'CS114.K21.KHTN' already exists and is not an empty directory.\n"
          ],
          "name": "stdout"
        }
      ]
    },
    {
      "cell_type": "code",
      "metadata": {
        "id": "gZ88cgX9sP04",
        "colab_type": "code",
        "colab": {
          "base_uri": "https://localhost:8080/",
          "height": 194
        },
        "outputId": "6fafa90f-6138-4025-8ede-611a8363841c"
      },
      "source": [
        "dataset = pd.read_csv('/content/CS114.K21.KHTN/Capstone Project/imdb-reviews-dataset_final.csv',header = 0)\n",
        "dataset.head()"
      ],
      "execution_count": null,
      "outputs": [
        {
          "output_type": "execute_result",
          "data": {
            "text/html": [
              "<div>\n",
              "<style scoped>\n",
              "    .dataframe tbody tr th:only-of-type {\n",
              "        vertical-align: middle;\n",
              "    }\n",
              "\n",
              "    .dataframe tbody tr th {\n",
              "        vertical-align: top;\n",
              "    }\n",
              "\n",
              "    .dataframe thead th {\n",
              "        text-align: right;\n",
              "    }\n",
              "</style>\n",
              "<table border=\"1\" class=\"dataframe\">\n",
              "  <thead>\n",
              "    <tr style=\"text-align: right;\">\n",
              "      <th></th>\n",
              "      <th>movie</th>\n",
              "      <th>title</th>\n",
              "      <th>review</th>\n",
              "      <th>isPos</th>\n",
              "    </tr>\n",
              "  </thead>\n",
              "  <tbody>\n",
              "    <tr>\n",
              "      <th>0</th>\n",
              "      <td>Joker</td>\n",
              "      <td>As a viewer that actually went to TIFF and wit...</td>\n",
              "      <td>I was a person that saw all the hype and claim...</td>\n",
              "      <td>0</td>\n",
              "    </tr>\n",
              "    <tr>\n",
              "      <th>1</th>\n",
              "      <td>Joker</td>\n",
              "      <td>Outstanding movie with a haunting performance ...</td>\n",
              "      <td>Every once in a while a movie comes, that trul...</td>\n",
              "      <td>0</td>\n",
              "    </tr>\n",
              "    <tr>\n",
              "      <th>2</th>\n",
              "      <td>Joker</td>\n",
              "      <td>Only certain people can relate</td>\n",
              "      <td>This is a movie that only those who have felt ...</td>\n",
              "      <td>0</td>\n",
              "    </tr>\n",
              "    <tr>\n",
              "      <th>3</th>\n",
              "      <td>Joker</td>\n",
              "      <td>Perfect in every aspect.</td>\n",
              "      <td>Truly a masterpiece, The Best Hollywood film o...</td>\n",
              "      <td>0</td>\n",
              "    </tr>\n",
              "    <tr>\n",
              "      <th>4</th>\n",
              "      <td>Joker</td>\n",
              "      <td>MASTERPIECE 😍</td>\n",
              "      <td>Joaquin Phoenix gives a tour de force performa...</td>\n",
              "      <td>0</td>\n",
              "    </tr>\n",
              "  </tbody>\n",
              "</table>\n",
              "</div>"
            ],
            "text/plain": [
              "   movie  ... isPos\n",
              "0  Joker  ...     0\n",
              "1  Joker  ...     0\n",
              "2  Joker  ...     0\n",
              "3  Joker  ...     0\n",
              "4  Joker  ...     0\n",
              "\n",
              "[5 rows x 4 columns]"
            ]
          },
          "metadata": {
            "tags": []
          },
          "execution_count": 3
        }
      ]
    },
    {
      "cell_type": "code",
      "metadata": {
        "id": "6Dd6Uhi0t1RE",
        "colab_type": "code",
        "colab": {
          "base_uri": "https://localhost:8080/",
          "height": 399
        },
        "outputId": "8b5ec2b6-b481-4330-d81e-5f7847d447b2"
      },
      "source": [
        "dataset"
      ],
      "execution_count": null,
      "outputs": [
        {
          "output_type": "execute_result",
          "data": {
            "text/html": [
              "<div>\n",
              "<style scoped>\n",
              "    .dataframe tbody tr th:only-of-type {\n",
              "        vertical-align: middle;\n",
              "    }\n",
              "\n",
              "    .dataframe tbody tr th {\n",
              "        vertical-align: top;\n",
              "    }\n",
              "\n",
              "    .dataframe thead th {\n",
              "        text-align: right;\n",
              "    }\n",
              "</style>\n",
              "<table border=\"1\" class=\"dataframe\">\n",
              "  <thead>\n",
              "    <tr style=\"text-align: right;\">\n",
              "      <th></th>\n",
              "      <th>movie</th>\n",
              "      <th>title</th>\n",
              "      <th>review</th>\n",
              "      <th>isPos</th>\n",
              "    </tr>\n",
              "  </thead>\n",
              "  <tbody>\n",
              "    <tr>\n",
              "      <th>0</th>\n",
              "      <td>Joker</td>\n",
              "      <td>As a viewer that actually went to TIFF and wit...</td>\n",
              "      <td>I was a person that saw all the hype and claim...</td>\n",
              "      <td>0</td>\n",
              "    </tr>\n",
              "    <tr>\n",
              "      <th>1</th>\n",
              "      <td>Joker</td>\n",
              "      <td>Outstanding movie with a haunting performance ...</td>\n",
              "      <td>Every once in a while a movie comes, that trul...</td>\n",
              "      <td>0</td>\n",
              "    </tr>\n",
              "    <tr>\n",
              "      <th>2</th>\n",
              "      <td>Joker</td>\n",
              "      <td>Only certain people can relate</td>\n",
              "      <td>This is a movie that only those who have felt ...</td>\n",
              "      <td>0</td>\n",
              "    </tr>\n",
              "    <tr>\n",
              "      <th>3</th>\n",
              "      <td>Joker</td>\n",
              "      <td>Perfect in every aspect.</td>\n",
              "      <td>Truly a masterpiece, The Best Hollywood film o...</td>\n",
              "      <td>0</td>\n",
              "    </tr>\n",
              "    <tr>\n",
              "      <th>4</th>\n",
              "      <td>Joker</td>\n",
              "      <td>MASTERPIECE 😍</td>\n",
              "      <td>Joaquin Phoenix gives a tour de force performa...</td>\n",
              "      <td>0</td>\n",
              "    </tr>\n",
              "    <tr>\n",
              "      <th>...</th>\n",
              "      <td>...</td>\n",
              "      <td>...</td>\n",
              "      <td>...</td>\n",
              "      <td>...</td>\n",
              "    </tr>\n",
              "    <tr>\n",
              "      <th>6280</th>\n",
              "      <td>Thor: Ragnarok</td>\n",
              "      <td>Bad casting welcome back cheesy movies</td>\n",
              "      <td>This is like the old Batman movies with Jim Ca...</td>\n",
              "      <td>1</td>\n",
              "    </tr>\n",
              "    <tr>\n",
              "      <th>6281</th>\n",
              "      <td>Thor: Ragnarok</td>\n",
              "      <td>Surreal</td>\n",
              "      <td>The Good: Visually I loved pretty much everyth...</td>\n",
              "      <td>1</td>\n",
              "    </tr>\n",
              "    <tr>\n",
              "      <th>6282</th>\n",
              "      <td>Thor: Ragnarok</td>\n",
              "      <td>Identitiy Politics barf</td>\n",
              "      <td>Yeah, it started a few years before, but this ...</td>\n",
              "      <td>1</td>\n",
              "    </tr>\n",
              "    <tr>\n",
              "      <th>6283</th>\n",
              "      <td>Thor: Ragnarok</td>\n",
              "      <td>MCU doesn't suck but this movie SUCKS (get it)</td>\n",
              "      <td>I may be late to review this movie but better ...</td>\n",
              "      <td>1</td>\n",
              "    </tr>\n",
              "    <tr>\n",
              "      <th>6284</th>\n",
              "      <td>Thor: Ragnarok</td>\n",
              "      <td>Overrated movie beyond imagination</td>\n",
              "      <td>Thor sense of humor is like a boy trying so ha...</td>\n",
              "      <td>1</td>\n",
              "    </tr>\n",
              "  </tbody>\n",
              "</table>\n",
              "<p>6285 rows × 4 columns</p>\n",
              "</div>"
            ],
            "text/plain": [
              "               movie  ... isPos\n",
              "0              Joker  ...     0\n",
              "1              Joker  ...     0\n",
              "2              Joker  ...     0\n",
              "3              Joker  ...     0\n",
              "4              Joker  ...     0\n",
              "...              ...  ...   ...\n",
              "6280  Thor: Ragnarok  ...     1\n",
              "6281  Thor: Ragnarok  ...     1\n",
              "6282  Thor: Ragnarok  ...     1\n",
              "6283  Thor: Ragnarok  ...     1\n",
              "6284  Thor: Ragnarok  ...     1\n",
              "\n",
              "[6285 rows x 4 columns]"
            ]
          },
          "metadata": {
            "tags": []
          },
          "execution_count": 4
        }
      ]
    },
    {
      "cell_type": "code",
      "metadata": {
        "id": "5ltdxBHyOuGk",
        "colab_type": "code",
        "colab": {}
      },
      "source": [
        "dataset = dataset.drop(dataset[dataset.isPos =='isPos'].index)"
      ],
      "execution_count": null,
      "outputs": []
    },
    {
      "cell_type": "markdown",
      "metadata": {
        "id": "BXO0CgVf3iWP",
        "colab_type": "text"
      },
      "source": [
        "Dataset is not skewed\n"
      ]
    },
    {
      "cell_type": "code",
      "metadata": {
        "id": "A3qu8bQOryge",
        "colab_type": "code",
        "colab": {
          "base_uri": "https://localhost:8080/",
          "height": 332
        },
        "outputId": "042c36fc-d889-4bee-85d6-0b348bf1131c"
      },
      "source": [
        "import seaborn as sns\n",
        "\n",
        "sns.countplot(dataset.isPos)"
      ],
      "execution_count": null,
      "outputs": [
        {
          "output_type": "stream",
          "text": [
            "/usr/local/lib/python3.6/dist-packages/statsmodels/tools/_testing.py:19: FutureWarning: pandas.util.testing is deprecated. Use the functions in the public API at pandas.testing instead.\n",
            "  import pandas.util.testing as tm\n"
          ],
          "name": "stderr"
        },
        {
          "output_type": "execute_result",
          "data": {
            "text/plain": [
              "<matplotlib.axes._subplots.AxesSubplot at 0x7f7b84acd5c0>"
            ]
          },
          "metadata": {
            "tags": []
          },
          "execution_count": 5
        },
        {
          "output_type": "display_data",
          "data": {
            "image/png": "[encoded data removed]",
            "text/plain": [
              "<Figure size 432x288 with 1 Axes>"
            ]
          },
          "metadata": {
            "tags": [],
            "needs_background": "light"
          }
        }
      ]
    },
    {
      "cell_type": "code",
      "metadata": {
        "id": "0zkD2zGDr0is",
        "colab_type": "code",
        "colab": {
          "base_uri": "https://localhost:8080/",
          "height": 106
        },
        "outputId": "616fb4f5-e513-4da4-eb5d-afcda1375319"
      },
      "source": [
        "dataset.isna().sum()"
      ],
      "execution_count": null,
      "outputs": [
        {
          "output_type": "execute_result",
          "data": {
            "text/plain": [
              "movie     0\n",
              "title     0\n",
              "review    0\n",
              "isPos     0\n",
              "dtype: int64"
            ]
          },
          "metadata": {
            "tags": []
          },
          "execution_count": 6
        }
      ]
    },
    {
      "cell_type": "code",
      "metadata": {
        "id": "rr9sEnMl4gtH",
        "colab_type": "code",
        "colab": {
          "base_uri": "https://localhost:8080/",
          "height": 35
        },
        "outputId": "a614375e-cf4c-4f67-e688-7a43bc473e60"
      },
      "source": [
        "dataset.shape"
      ],
      "execution_count": null,
      "outputs": [
        {
          "output_type": "execute_result",
          "data": {
            "text/plain": [
              "(6285, 4)"
            ]
          },
          "metadata": {
            "tags": []
          },
          "execution_count": 7
        }
      ]
    },
    {
      "cell_type": "code",
      "metadata": {
        "id": "Z3JuZ-RaEiwd",
        "colab_type": "code",
        "colab": {
          "base_uri": "https://localhost:8080/",
          "height": 88
        },
        "outputId": "585bb973-2444-44d7-f946-a59d828992ad"
      },
      "source": [
        "dataset.isPos.value_counts()"
      ],
      "execution_count": null,
      "outputs": [
        {
          "output_type": "execute_result",
          "data": {
            "text/plain": [
              "1        3144\n",
              "0        3125\n",
              "isPos      16\n",
              "Name: isPos, dtype: int64"
            ]
          },
          "metadata": {
            "tags": []
          },
          "execution_count": 8
        }
      ]
    },
    {
      "cell_type": "markdown",
      "metadata": {
        "id": "TlBidzUUAf8_",
        "colab_type": "text"
      },
      "source": [
        "#**Preprocessing**\n",
        "\n"
      ]
    },
    {
      "cell_type": "code",
      "metadata": {
        "id": "DIUHydRFsWdc",
        "colab_type": "code",
        "colab": {
          "base_uri": "https://localhost:8080/",
          "height": 399
        },
        "outputId": "422180bb-469f-4c60-9710-7985bd6c08b8"
      },
      "source": [
        "dataset = dataset.rename(columns = {'Movie':'movie','Title':'title','Review':'review'})\n",
        "dataset"
      ],
      "execution_count": null,
      "outputs": [
        {
          "output_type": "execute_result",
          "data": {
            "text/html": [
              "<div>\n",
              "<style scoped>\n",
              "    .dataframe tbody tr th:only-of-type {\n",
              "        vertical-align: middle;\n",
              "    }\n",
              "\n",
              "    .dataframe tbody tr th {\n",
              "        vertical-align: top;\n",
              "    }\n",
              "\n",
              "    .dataframe thead th {\n",
              "        text-align: right;\n",
              "    }\n",
              "</style>\n",
              "<table border=\"1\" class=\"dataframe\">\n",
              "  <thead>\n",
              "    <tr style=\"text-align: right;\">\n",
              "      <th></th>\n",
              "      <th>movie</th>\n",
              "      <th>title</th>\n",
              "      <th>review</th>\n",
              "      <th>isPos</th>\n",
              "    </tr>\n",
              "  </thead>\n",
              "  <tbody>\n",
              "    <tr>\n",
              "      <th>0</th>\n",
              "      <td>Joker</td>\n",
              "      <td>As a viewer that actually went to TIFF and wit...</td>\n",
              "      <td>I was a person that saw all the hype and claim...</td>\n",
              "      <td>0</td>\n",
              "    </tr>\n",
              "    <tr>\n",
              "      <th>1</th>\n",
              "      <td>Joker</td>\n",
              "      <td>Outstanding movie with a haunting performance ...</td>\n",
              "      <td>Every once in a while a movie comes, that trul...</td>\n",
              "      <td>0</td>\n",
              "    </tr>\n",
              "    <tr>\n",
              "      <th>2</th>\n",
              "      <td>Joker</td>\n",
              "      <td>Only certain people can relate</td>\n",
              "      <td>This is a movie that only those who have felt ...</td>\n",
              "      <td>0</td>\n",
              "    </tr>\n",
              "    <tr>\n",
              "      <th>3</th>\n",
              "      <td>Joker</td>\n",
              "      <td>Perfect in every aspect.</td>\n",
              "      <td>Truly a masterpiece, The Best Hollywood film o...</td>\n",
              "      <td>0</td>\n",
              "    </tr>\n",
              "    <tr>\n",
              "      <th>4</th>\n",
              "      <td>Joker</td>\n",
              "      <td>MASTERPIECE 😍</td>\n",
              "      <td>Joaquin Phoenix gives a tour de force performa...</td>\n",
              "      <td>0</td>\n",
              "    </tr>\n",
              "    <tr>\n",
              "      <th>...</th>\n",
              "      <td>...</td>\n",
              "      <td>...</td>\n",
              "      <td>...</td>\n",
              "      <td>...</td>\n",
              "    </tr>\n",
              "    <tr>\n",
              "      <th>6280</th>\n",
              "      <td>Thor: Ragnarok</td>\n",
              "      <td>Bad casting welcome back cheesy movies</td>\n",
              "      <td>This is like the old Batman movies with Jim Ca...</td>\n",
              "      <td>1</td>\n",
              "    </tr>\n",
              "    <tr>\n",
              "      <th>6281</th>\n",
              "      <td>Thor: Ragnarok</td>\n",
              "      <td>Surreal</td>\n",
              "      <td>The Good: Visually I loved pretty much everyth...</td>\n",
              "      <td>1</td>\n",
              "    </tr>\n",
              "    <tr>\n",
              "      <th>6282</th>\n",
              "      <td>Thor: Ragnarok</td>\n",
              "      <td>Identitiy Politics barf</td>\n",
              "      <td>Yeah, it started a few years before, but this ...</td>\n",
              "      <td>1</td>\n",
              "    </tr>\n",
              "    <tr>\n",
              "      <th>6283</th>\n",
              "      <td>Thor: Ragnarok</td>\n",
              "      <td>MCU doesn't suck but this movie SUCKS (get it)</td>\n",
              "      <td>I may be late to review this movie but better ...</td>\n",
              "      <td>1</td>\n",
              "    </tr>\n",
              "    <tr>\n",
              "      <th>6284</th>\n",
              "      <td>Thor: Ragnarok</td>\n",
              "      <td>Overrated movie beyond imagination</td>\n",
              "      <td>Thor sense of humor is like a boy trying so ha...</td>\n",
              "      <td>1</td>\n",
              "    </tr>\n",
              "  </tbody>\n",
              "</table>\n",
              "<p>6269 rows × 4 columns</p>\n",
              "</div>"
            ],
            "text/plain": [
              "               movie  ... isPos\n",
              "0              Joker  ...     0\n",
              "1              Joker  ...     0\n",
              "2              Joker  ...     0\n",
              "3              Joker  ...     0\n",
              "4              Joker  ...     0\n",
              "...              ...  ...   ...\n",
              "6280  Thor: Ragnarok  ...     1\n",
              "6281  Thor: Ragnarok  ...     1\n",
              "6282  Thor: Ragnarok  ...     1\n",
              "6283  Thor: Ragnarok  ...     1\n",
              "6284  Thor: Ragnarok  ...     1\n",
              "\n",
              "[6269 rows x 4 columns]"
            ]
          },
          "metadata": {
            "tags": []
          },
          "execution_count": 11
        }
      ]
    },
    {
      "cell_type": "code",
      "metadata": {
        "id": "zlnPD1Kbtg2G",
        "colab_type": "code",
        "colab": {}
      },
      "source": [
        "dataset.to_csv('/content/imdb-reviews-dataset.csv',index=False)"
      ],
      "execution_count": null,
      "outputs": []
    },
    {
      "cell_type": "markdown",
      "metadata": {
        "id": "bhhjqPWEtye4",
        "colab_type": "text"
      },
      "source": [
        "### Let's take a look at a arbitrary review\n"
      ]
    },
    {
      "cell_type": "code",
      "metadata": {
        "id": "04VXK0i8t-hC",
        "colab_type": "code",
        "colab": {
          "base_uri": "https://localhost:8080/",
          "height": 89
        },
        "outputId": "c280219f-7697-41fe-adf8-6b6b59c64121"
      },
      "source": [
        "dataset.review.loc[1]"
      ],
      "execution_count": null,
      "outputs": [
        {
          "output_type": "execute_result",
          "data": {
            "application/vnd.google.colaboratory.intrinsic+json": {
              "type": "string"
            },
            "text/plain": [
              "\"Every once in a while a movie comes, that truly makes an impact. Joaquin's performance and scenography in all it's brilliance. Grotesque, haunting and cringy. Hard to watch at times,... but so mesmerizing, you won't blink an eye watching it. Tragic, but with seriously funny moments. Emotional rollercoaster - sometimes, with multiple emotions popping-up at the same time.this is far from a typical action-riddled predictable super-hero movie - it's a proper psychological thriller/drama, with the single best character development I have ever seen.3,602 out of 4,398 found this helpful.Was this review helpful?Sign into vote.Permalink\""
            ]
          },
          "metadata": {
            "tags": []
          },
          "execution_count": 13
        }
      ]
    },
    {
      "cell_type": "markdown",
      "metadata": {
        "id": "1H-SpE6tuQuv",
        "colab_type": "text"
      },
      "source": [
        "Because HTML tags were removed in the crawling step, so we'll skip that step and come to remove all other character that's NOT alphabet using Regular Expression"
      ]
    },
    {
      "cell_type": "code",
      "metadata": {
        "id": "RXqLwDqg3z_h",
        "colab_type": "code",
        "colab": {
          "base_uri": "https://localhost:8080/",
          "height": 124
        },
        "outputId": "d970447e-a31a-439e-a381-8695c827b124"
      },
      "source": [
        "import re, string\n",
        "import nltk\n",
        "nltk.download('punkt')\n",
        "nltk.download('wordnet')\n",
        "from nltk.tokenize import word_tokenize\n",
        "nltk.download('stopwords')\n",
        "from nltk.corpus import stopwords\n",
        "from nltk.stem import WordNetLemmatizer\n",
        "\n",
        "stop_words = set(stopwords.words('english'))\n",
        "lem = WordNetLemmatizer()"
      ],
      "execution_count": null,
      "outputs": [
        {
          "output_type": "stream",
          "text": [
            "[nltk_data] Downloading package punkt to /root/nltk_data...\n",
            "[nltk_data]   Package punkt is already up-to-date!\n",
            "[nltk_data] Downloading package wordnet to /root/nltk_data...\n",
            "[nltk_data]   Package wordnet is already up-to-date!\n",
            "[nltk_data] Downloading package stopwords to /root/nltk_data...\n",
            "[nltk_data]   Package stopwords is already up-to-date!\n"
          ],
          "name": "stdout"
        }
      ]
    },
    {
      "cell_type": "code",
      "metadata": {
        "id": "EfVzCTm0CK7z",
        "colab_type": "code",
        "colab": {
          "base_uri": "https://localhost:8080/",
          "height": 399
        },
        "outputId": "86d99dff-fed6-4686-f995-b89c273fbb19"
      },
      "source": [
        "dataset"
      ],
      "execution_count": null,
      "outputs": [
        {
          "output_type": "execute_result",
          "data": {
            "text/html": [
              "<div>\n",
              "<style scoped>\n",
              "    .dataframe tbody tr th:only-of-type {\n",
              "        vertical-align: middle;\n",
              "    }\n",
              "\n",
              "    .dataframe tbody tr th {\n",
              "        vertical-align: top;\n",
              "    }\n",
              "\n",
              "    .dataframe thead th {\n",
              "        text-align: right;\n",
              "    }\n",
              "</style>\n",
              "<table border=\"1\" class=\"dataframe\">\n",
              "  <thead>\n",
              "    <tr style=\"text-align: right;\">\n",
              "      <th></th>\n",
              "      <th>movie</th>\n",
              "      <th>title</th>\n",
              "      <th>review</th>\n",
              "      <th>isPos</th>\n",
              "    </tr>\n",
              "  </thead>\n",
              "  <tbody>\n",
              "    <tr>\n",
              "      <th>0</th>\n",
              "      <td>Joker</td>\n",
              "      <td>As a viewer that actually went to TIFF and wit...</td>\n",
              "      <td>I was a person that saw all the hype and claim...</td>\n",
              "      <td>0</td>\n",
              "    </tr>\n",
              "    <tr>\n",
              "      <th>1</th>\n",
              "      <td>Joker</td>\n",
              "      <td>Outstanding movie with a haunting performance ...</td>\n",
              "      <td>Every once in a while a movie comes, that trul...</td>\n",
              "      <td>0</td>\n",
              "    </tr>\n",
              "    <tr>\n",
              "      <th>2</th>\n",
              "      <td>Joker</td>\n",
              "      <td>Only certain people can relate</td>\n",
              "      <td>This is a movie that only those who have felt ...</td>\n",
              "      <td>0</td>\n",
              "    </tr>\n",
              "    <tr>\n",
              "      <th>3</th>\n",
              "      <td>Joker</td>\n",
              "      <td>Perfect in every aspect.</td>\n",
              "      <td>Truly a masterpiece, The Best Hollywood film o...</td>\n",
              "      <td>0</td>\n",
              "    </tr>\n",
              "    <tr>\n",
              "      <th>4</th>\n",
              "      <td>Joker</td>\n",
              "      <td>MASTERPIECE 😍</td>\n",
              "      <td>Joaquin Phoenix gives a tour de force performa...</td>\n",
              "      <td>0</td>\n",
              "    </tr>\n",
              "    <tr>\n",
              "      <th>...</th>\n",
              "      <td>...</td>\n",
              "      <td>...</td>\n",
              "      <td>...</td>\n",
              "      <td>...</td>\n",
              "    </tr>\n",
              "    <tr>\n",
              "      <th>6280</th>\n",
              "      <td>Thor: Ragnarok</td>\n",
              "      <td>Bad casting welcome back cheesy movies</td>\n",
              "      <td>This is like the old Batman movies with Jim Ca...</td>\n",
              "      <td>1</td>\n",
              "    </tr>\n",
              "    <tr>\n",
              "      <th>6281</th>\n",
              "      <td>Thor: Ragnarok</td>\n",
              "      <td>Surreal</td>\n",
              "      <td>The Good: Visually I loved pretty much everyth...</td>\n",
              "      <td>1</td>\n",
              "    </tr>\n",
              "    <tr>\n",
              "      <th>6282</th>\n",
              "      <td>Thor: Ragnarok</td>\n",
              "      <td>Identitiy Politics barf</td>\n",
              "      <td>Yeah, it started a few years before, but this ...</td>\n",
              "      <td>1</td>\n",
              "    </tr>\n",
              "    <tr>\n",
              "      <th>6283</th>\n",
              "      <td>Thor: Ragnarok</td>\n",
              "      <td>MCU doesn't suck but this movie SUCKS (get it)</td>\n",
              "      <td>I may be late to review this movie but better ...</td>\n",
              "      <td>1</td>\n",
              "    </tr>\n",
              "    <tr>\n",
              "      <th>6284</th>\n",
              "      <td>Thor: Ragnarok</td>\n",
              "      <td>Overrated movie beyond imagination</td>\n",
              "      <td>Thor sense of humor is like a boy trying so ha...</td>\n",
              "      <td>1</td>\n",
              "    </tr>\n",
              "  </tbody>\n",
              "</table>\n",
              "<p>6269 rows × 4 columns</p>\n",
              "</div>"
            ],
            "text/plain": [
              "               movie  ... isPos\n",
              "0              Joker  ...     0\n",
              "1              Joker  ...     0\n",
              "2              Joker  ...     0\n",
              "3              Joker  ...     0\n",
              "4              Joker  ...     0\n",
              "...              ...  ...   ...\n",
              "6280  Thor: Ragnarok  ...     1\n",
              "6281  Thor: Ragnarok  ...     1\n",
              "6282  Thor: Ragnarok  ...     1\n",
              "6283  Thor: Ragnarok  ...     1\n",
              "6284  Thor: Ragnarok  ...     1\n",
              "\n",
              "[6269 rows x 4 columns]"
            ]
          },
          "metadata": {
            "tags": []
          },
          "execution_count": 17
        }
      ]
    },
    {
      "cell_type": "code",
      "metadata": {
        "id": "bb-9PY9N2znj",
        "colab_type": "code",
        "colab": {}
      },
      "source": [
        "def remove_char(s):\n",
        "  s= ''.join(map(lambda c: '' if c in '0123456789' else c, s))\n",
        "  s = re.sub('\\s+',' ',s)\n",
        "  s= s.replace('out of found this helpful Was this review helpful Sign into vote Permalink','')\n",
        "  return s"
      ],
      "execution_count": null,
      "outputs": []
    },
    {
      "cell_type": "code",
      "metadata": {
        "id": "_BFlXtm26FHJ",
        "colab_type": "code",
        "colab": {}
      },
      "source": [
        "def preprocess(review):\n",
        "    # Remove all characters NOT alphabet\n",
        "    review = re.sub('[^a-zA-Z]', ' ', review)\n",
        "\n",
        "    # Remove 'permalink'\n",
        "    # review = re.sub('Permalink','',review)\n",
        "    review = review.translate(str.maketrans('', '', string.punctuation))\n",
        "    review = remove_char(review)\n",
        "    \n",
        "    # Lowercase the review\n",
        "    review = review.lower()\n",
        "\n",
        "    # Split the review into words using Word Tokenizer\n",
        "    review = word_tokenize(review)\n",
        "    #print('Tokenize: ',review)\n",
        "    # Remove stopwords\n",
        "    review = [word for word in review if not word in stop_words]\n",
        "    #print(review)\n",
        "    # Lemmatizing the tokens\n",
        "    review = [lem.lemmatize(word) for word in review]\n",
        "    #print('Lemma: ', review)\n",
        "    # Merge the tokens back to a full review\n",
        "    review = ' '.join(review)\n",
        "    #print(review)\n",
        "    return review"
      ],
      "execution_count": null,
      "outputs": []
    },
    {
      "cell_type": "markdown",
      "metadata": {
        "id": "CS7JXRZElsln",
        "colab_type": "text"
      },
      "source": [
        "# **Feature Extraction**"
      ]
    },
    {
      "cell_type": "markdown",
      "metadata": {
        "id": "f9R0bc59JOMk",
        "colab_type": "text"
      },
      "source": [
        "To vectorize the reviews, I use 2 methods:\n",
        "- **Count Vectorizer**\n",
        "- **TF-IDF Vectorizer**"
      ]
    },
    {
      "cell_type": "code",
      "metadata": {
        "id": "7C--IvX7QJ1c",
        "colab_type": "code",
        "colab": {}
      },
      "source": [
        "from sklearn.feature_extraction.text import CountVectorizer\n",
        "from sklearn.feature_extraction.text import TfidfVectorizer"
      ],
      "execution_count": null,
      "outputs": []
    },
    {
      "cell_type": "markdown",
      "metadata": {
        "id": "HdcF2ZHJl2Vs",
        "colab_type": "text"
      },
      "source": [
        "# **Training the model**"
      ]
    },
    {
      "cell_type": "markdown",
      "metadata": {
        "id": "lKNjDER0l-xS",
        "colab_type": "text"
      },
      "source": [
        "Before apply models to train the data, let's split the whole dataset into train dataset and test dataset"
      ]
    },
    {
      "cell_type": "code",
      "metadata": {
        "id": "TKknQjSmbMzk",
        "colab_type": "code",
        "colab": {}
      },
      "source": [
        "from sklearn.model_selection import train_test_split\n",
        "\n",
        "dataset_train, dataset_test, train_data_label, test_data_label = train_test_split(dataset['review'], dataset['isPos'], test_size=0.2, random_state=12)"
      ],
      "execution_count": null,
      "outputs": []
    },
    {
      "cell_type": "code",
      "metadata": {
        "id": "J7SJ8ZllG6dh",
        "colab_type": "code",
        "colab": {
          "base_uri": "https://localhost:8080/",
          "height": 89
        },
        "outputId": "04abee60-32dc-41eb-9eb0-fdeadd7cfb1a"
      },
      "source": [
        "dataset_train[1]"
      ],
      "execution_count": null,
      "outputs": [
        {
          "output_type": "execute_result",
          "data": {
            "application/vnd.google.colaboratory.intrinsic+json": {
              "type": "string"
            },
            "text/plain": [
              "\"Every once in a while a movie comes, that truly makes an impact. Joaquin's performance and scenography in all it's brilliance. Grotesque, haunting and cringy. Hard to watch at times,... but so mesmerizing, you won't blink an eye watching it. Tragic, but with seriously funny moments. Emotional rollercoaster - sometimes, with multiple emotions popping-up at the same time.this is far from a typical action-riddled predictable super-hero movie - it's a proper psychological thriller/drama, with the single best character development I have ever seen.3,602 out of 4,398 found this helpful.Was this review helpful?Sign into vote.Permalink\""
            ]
          },
          "metadata": {
            "tags": []
          },
          "execution_count": 22
        }
      ]
    },
    {
      "cell_type": "markdown",
      "metadata": {
        "id": "JF69zRGNGrl7",
        "colab_type": "text"
      },
      "source": [
        "##Build train and test corpus"
      ]
    },
    {
      "cell_type": "code",
      "metadata": {
        "id": "XidiDtSOGrMy",
        "colab_type": "code",
        "colab": {}
      },
      "source": [
        "corpus_train = []\n",
        "corpus_test = []\n",
        "\n",
        "corpus_train = [preprocess(review) for review in dataset_train]\n",
        "corpus_test = [preprocess(review) for review in dataset_test]"
      ],
      "execution_count": null,
      "outputs": []
    },
    {
      "cell_type": "code",
      "metadata": {
        "id": "kXDuOW4DIH9S",
        "colab_type": "code",
        "colab": {
          "base_uri": "https://localhost:8080/",
          "height": 53
        },
        "outputId": "17d302b9-8c72-401e-e6b1-134d7c8fb62a"
      },
      "source": [
        "corpus_train[-1]"
      ],
      "execution_count": null,
      "outputs": [
        {
          "output_type": "execute_result",
          "data": {
            "application/vnd.google.colaboratory.intrinsic+json": {
              "type": "string"
            },
            "text/plain": [
              "'watched movie hoping improvement last disaster spider movie say certainty far worst whole spiderman movie coming age teenage crush movie spiderman thrown waste time effort movie studio bad predictable story really much thought gone seems hollywood pump film little thought predictable character story waste time pointless movie'"
            ]
          },
          "metadata": {
            "tags": []
          },
          "execution_count": 24
        }
      ]
    },
    {
      "cell_type": "code",
      "metadata": {
        "id": "gSyaGf82IsJs",
        "colab_type": "code",
        "colab": {
          "base_uri": "https://localhost:8080/",
          "height": 71
        },
        "outputId": "aad33677-ae92-41a1-8a08-7a649e1da530"
      },
      "source": [
        "corpus_test[-1]"
      ],
      "execution_count": null,
      "outputs": [
        {
          "output_type": "execute_result",
          "data": {
            "application/vnd.google.colaboratory.intrinsic+json": {
              "type": "string"
            },
            "text/plain": [
              "'listen anyone say movie mastepiece even hour watched movie still get chill moment film film excellent job potraying arthur life demise leading become joker really comic book movie crime movie certain element batman lore tie good unexpected way film yes violence disturbing scene r rated film joker movie would failure everyone reading watch joker even hour seeing feel shiver spine guarantee'"
            ]
          },
          "metadata": {
            "tags": []
          },
          "execution_count": 25
        }
      ]
    },
    {
      "cell_type": "markdown",
      "metadata": {
        "id": "WjIsAXrsrCli",
        "colab_type": "text"
      },
      "source": [
        "## **Machine Learning Algorithms**"
      ]
    },
    {
      "cell_type": "markdown",
      "metadata": {
        "id": "4760FFqHcd0l",
        "colab_type": "text"
      },
      "source": [
        "1. Logistic Regression\n",
        "2. SVM\n",
        "3. Naive Bayes\n"
      ]
    },
    {
      "cell_type": "code",
      "metadata": {
        "id": "mmQhABSdMtAh",
        "colab_type": "code",
        "colab": {}
      },
      "source": [
        "from sklearn.naive_bayes import MultinomialNB\n",
        "from sklearn.ensemble import RandomForestClassifier\n",
        "from sklearn.linear_model import LogisticRegression\n",
        "from sklearn.svm import LinearSVC"
      ],
      "execution_count": null,
      "outputs": []
    },
    {
      "cell_type": "code",
      "metadata": {
        "id": "yOVJImV6KAcW",
        "colab_type": "code",
        "colab": {}
      },
      "source": [
        "# Let's vectorize the reviews first, using TF-IDF\n",
        "tfidf_vec = TfidfVectorizer()\n",
        "#tfidf_vec = TfidfVectorizer(ngram_range=(1, 3))\n",
        "tfidf_vec_train = tfidf_vec.fit_transform(corpus_train)\n",
        "tfidf_vec_test = tfidf_vec.transform(corpus_test)\n"
      ],
      "execution_count": null,
      "outputs": []
    },
    {
      "cell_type": "markdown",
      "metadata": {
        "id": "YVzK314AQAMP",
        "colab_type": "text"
      },
      "source": [
        "### **Logistic Regression**"
      ]
    },
    {
      "cell_type": "code",
      "metadata": {
        "id": "vXtLFzDfJwKD",
        "colab_type": "code",
        "colab": {
          "base_uri": "https://localhost:8080/",
          "height": 52
        },
        "outputId": "d6979f67-2855-4d3d-b96e-b8c4b6f18c76"
      },
      "source": [
        "# Logisic Regression\n",
        "model_LR = LogisticRegression()\n",
        "model_LR.fit(tfidf_vec_train, train_data_label)\n",
        "\n",
        "print(\"Train score: \",model_LR.score(tfidf_vec_train, train_data_label))\n",
        "print(\"Test score: \",model_LR.score(tfidf_vec_test, test_data_label))"
      ],
      "execution_count": null,
      "outputs": [
        {
          "output_type": "stream",
          "text": [
            "Train score:  0.9643070787637089\n",
            "Test score:  0.9354066985645934\n"
          ],
          "name": "stdout"
        }
      ]
    },
    {
      "cell_type": "code",
      "metadata": {
        "id": "W3VrPo3LNnOf",
        "colab_type": "code",
        "colab": {}
      },
      "source": [
        "predict = model_LR.predict(tfidf_vec_test)"
      ],
      "execution_count": null,
      "outputs": []
    },
    {
      "cell_type": "code",
      "metadata": {
        "id": "BbXLkQIpMeVF",
        "colab_type": "code",
        "colab": {
          "base_uri": "https://localhost:8080/",
          "height": 284
        },
        "outputId": "654b76fb-23e8-4005-9a80-d096bd895ddb"
      },
      "source": [
        "from sklearn.metrics import classification_report, confusion_matrix, accuracy_score\n",
        "\n",
        "print(\"Classification Report: \\n\", classification_report(test_data_label, predict,target_names=['Positive','Negative']))\n",
        "print(\"Confusion Matrix: \\n\", confusion_matrix(test_data_label, predict))\n",
        "print(\"Accuracy: \\n\", accuracy_score(test_data_label, predict))"
      ],
      "execution_count": null,
      "outputs": [
        {
          "output_type": "stream",
          "text": [
            "Classification Report: \n",
            "               precision    recall  f1-score   support\n",
            "\n",
            "    Positive       0.92      0.95      0.93       602\n",
            "    Negative       0.95      0.93      0.94       652\n",
            "\n",
            "    accuracy                           0.94      1254\n",
            "   macro avg       0.94      0.94      0.94      1254\n",
            "weighted avg       0.94      0.94      0.94      1254\n",
            "\n",
            "Confusion Matrix: \n",
            " [[569  33]\n",
            " [ 48 604]]\n",
            "Accuracy: \n",
            " 0.9354066985645934\n"
          ],
          "name": "stdout"
        }
      ]
    },
    {
      "cell_type": "markdown",
      "metadata": {
        "id": "mzuQCsVOQVLf",
        "colab_type": "text"
      },
      "source": [
        "We try to vectorize using CountVectorizer and fit on LR model"
      ]
    },
    {
      "cell_type": "code",
      "metadata": {
        "id": "_B3qFlCLQffk",
        "colab_type": "code",
        "colab": {}
      },
      "source": [
        "count_vec = CountVectorizer(ngram_range=(1, 3), binary=False)\n",
        "count_vec_train = count_vec.fit_transform(corpus_train)\n",
        "count_vec_test = count_vec.transform(corpus_test)"
      ],
      "execution_count": null,
      "outputs": []
    },
    {
      "cell_type": "code",
      "metadata": {
        "colab_type": "code",
        "id": "cE5Wfv9BQxQv",
        "colab": {
          "base_uri": "https://localhost:8080/",
          "height": 52
        },
        "outputId": "a5a2ca9a-931e-43d9-aa83-330f95a6b4af"
      },
      "source": [
        "# Logisic Regression (with CountVectorizer)\n",
        "model_LR_count = LogisticRegression()\n",
        "model_LR_count.fit(count_vec_train, train_data_label)\n",
        "\n",
        "print(\"Train score: \",model_LR_count.score(count_vec_train, train_data_label))\n",
        "print(\"Test score: \",model_LR_count.score(count_vec_test, test_data_label))"
      ],
      "execution_count": null,
      "outputs": [
        {
          "output_type": "stream",
          "text": [
            "Train score:  1.0\n",
            "Test score:  0.9242424242424242\n"
          ],
          "name": "stdout"
        }
      ]
    },
    {
      "cell_type": "code",
      "metadata": {
        "id": "zBSdTIXsQ0vY",
        "colab_type": "code",
        "colab": {}
      },
      "source": [
        "predict_cv = model_LR_count.predict(count_vec_test)"
      ],
      "execution_count": null,
      "outputs": []
    },
    {
      "cell_type": "code",
      "metadata": {
        "id": "fvoEIWlcRFZr",
        "colab_type": "code",
        "colab": {}
      },
      "source": [
        ""
      ],
      "execution_count": null,
      "outputs": []
    },
    {
      "cell_type": "code",
      "metadata": {
        "colab_type": "code",
        "id": "hmWb30OmRFtt",
        "colab": {
          "base_uri": "https://localhost:8080/",
          "height": 284
        },
        "outputId": "1a7bae61-77ec-428b-fa2e-bf51c8ab5f2d"
      },
      "source": [
        "from sklearn.metrics import classification_report, confusion_matrix, accuracy_score\n",
        "\n",
        "print(\"Classification Report: \\n\", classification_report(test_data_label, predict_cv,target_names=['Positive','Negative']))\n",
        "print(\"Confusion Matrix: \\n\", confusion_matrix(test_data_label, predict_cv))\n",
        "print(\"Accuracy: \\n\", accuracy_score(test_data_label, predict_cv))"
      ],
      "execution_count": null,
      "outputs": [
        {
          "output_type": "stream",
          "text": [
            "Classification Report: \n",
            "               precision    recall  f1-score   support\n",
            "\n",
            "    Positive       0.90      0.94      0.92       602\n",
            "    Negative       0.94      0.91      0.93       652\n",
            "\n",
            "    accuracy                           0.92      1254\n",
            "   macro avg       0.92      0.92      0.92      1254\n",
            "weighted avg       0.93      0.92      0.92      1254\n",
            "\n",
            "Confusion Matrix: \n",
            " [[567  35]\n",
            " [ 60 592]]\n",
            "Accuracy: \n",
            " 0.9242424242424242\n"
          ],
          "name": "stdout"
        }
      ]
    },
    {
      "cell_type": "markdown",
      "metadata": {
        "id": "U9lMKkZqQG7I",
        "colab_type": "text"
      },
      "source": [
        "###**SVM Classifier**"
      ]
    },
    {
      "cell_type": "code",
      "metadata": {
        "id": "UpZJGTozQTao",
        "colab_type": "code",
        "colab": {}
      },
      "source": [
        "from sklearn.svm import SVC\n",
        "\n",
        "svc = SVC(random_state=12)\n",
        "svc.fit(tfidf_vec_train, train_data_label)\n",
        "\n",
        "predict = svc.predict(tfidf_vec_test)"
      ],
      "execution_count": null,
      "outputs": []
    },
    {
      "cell_type": "code",
      "metadata": {
        "id": "hn4NnLrAV38I",
        "colab_type": "code",
        "colab": {
          "base_uri": "https://localhost:8080/",
          "height": 284
        },
        "outputId": "7f708b38-fb51-459c-fe87-31e89e3948cd"
      },
      "source": [
        "print(\"Classification Report: \\n\", classification_report(test_data_label, predict,target_names=['Positive','Negative']))\n",
        "print(\"Confusion Matrix: \\n\", confusion_matrix(test_data_label, predict))\n",
        "print(\"Accuracy: \\n\", accuracy_score(test_data_label, predict))"
      ],
      "execution_count": null,
      "outputs": [
        {
          "output_type": "stream",
          "text": [
            "Classification Report: \n",
            "               precision    recall  f1-score   support\n",
            "\n",
            "    Positive       0.92      0.96      0.94       602\n",
            "    Negative       0.96      0.92      0.94       652\n",
            "\n",
            "    accuracy                           0.94      1254\n",
            "   macro avg       0.94      0.94      0.94      1254\n",
            "weighted avg       0.94      0.94      0.94      1254\n",
            "\n",
            "Confusion Matrix: \n",
            " [[575  27]\n",
            " [ 49 603]]\n",
            "Accuracy: \n",
            " 0.9393939393939394\n"
          ],
          "name": "stdout"
        }
      ]
    },
    {
      "cell_type": "markdown",
      "metadata": {
        "id": "bWCElXqDWJUe",
        "colab_type": "text"
      },
      "source": [
        "Let's apply CountVectorizer and fit on this model"
      ]
    },
    {
      "cell_type": "code",
      "metadata": {
        "id": "YwriBy8vWDki",
        "colab_type": "code",
        "colab": {}
      },
      "source": [
        "svc_count = SVC(random_state=12)\n",
        "svc_count.fit(tfidf_vec_train, train_data_label)\n",
        "\n",
        "predict_count = svc_count.predict(tfidf_vec_test)"
      ],
      "execution_count": null,
      "outputs": []
    },
    {
      "cell_type": "code",
      "metadata": {
        "id": "k65SnzlDW_pd",
        "colab_type": "code",
        "colab": {
          "base_uri": "https://localhost:8080/",
          "height": 284
        },
        "outputId": "ca6b91e4-dbc2-49b5-d069-121c454d26a4"
      },
      "source": [
        "print(\"Classification Report: \\n\", classification_report(test_data_label, predict_count,target_names=['Positive','Negative']))\n",
        "print(\"Confusion Matrix: \\n\", confusion_matrix(test_data_label, predict_count))\n",
        "print(\"Accuracy: \\n\", accuracy_score(test_data_label, predict_count))"
      ],
      "execution_count": null,
      "outputs": [
        {
          "output_type": "stream",
          "text": [
            "Classification Report: \n",
            "               precision    recall  f1-score   support\n",
            "\n",
            "    Positive       0.92      0.96      0.94       602\n",
            "    Negative       0.96      0.92      0.94       652\n",
            "\n",
            "    accuracy                           0.94      1254\n",
            "   macro avg       0.94      0.94      0.94      1254\n",
            "weighted avg       0.94      0.94      0.94      1254\n",
            "\n",
            "Confusion Matrix: \n",
            " [[575  27]\n",
            " [ 49 603]]\n",
            "Accuracy: \n",
            " 0.9393939393939394\n"
          ],
          "name": "stdout"
        }
      ]
    },
    {
      "cell_type": "markdown",
      "metadata": {
        "id": "5Ri4X_otXRqp",
        "colab_type": "text"
      },
      "source": [
        "###**Naive Bayes**"
      ]
    },
    {
      "cell_type": "code",
      "metadata": {
        "id": "VfrRTwSWXUFx",
        "colab_type": "code",
        "colab": {}
      },
      "source": [
        "from sklearn.naive_bayes import MultinomialNB"
      ],
      "execution_count": null,
      "outputs": []
    },
    {
      "cell_type": "markdown",
      "metadata": {
        "id": "ad3Int7GbA5B",
        "colab_type": "text"
      },
      "source": [
        "Apply TF-IDF and fit on this model"
      ]
    },
    {
      "cell_type": "code",
      "metadata": {
        "id": "iRU6snFKZsEg",
        "colab_type": "code",
        "colab": {}
      },
      "source": [
        "tfidf_vec_NB = TfidfVectorizer(ngram_range=(1, 1))\n",
        "tfidf_vec_train_NB = tfidf_vec_NB.fit_transform(corpus_train)\n",
        "tfidf_vec_test_NB = tfidf_vec_NB.transform(corpus_test)"
      ],
      "execution_count": null,
      "outputs": []
    },
    {
      "cell_type": "code",
      "metadata": {
        "id": "3IvOSbD_Z0jj",
        "colab_type": "code",
        "colab": {}
      },
      "source": [
        "multi_clf = MultinomialNB()\n",
        "multi_clf.fit(tfidf_vec_train_NB, train_data_label)\n",
        "\n",
        "predict_NB = multi_clf.predict(tfidf_vec_test_NB)"
      ],
      "execution_count": null,
      "outputs": []
    },
    {
      "cell_type": "code",
      "metadata": {
        "id": "Rh2NDiutZ6qY",
        "colab_type": "code",
        "colab": {
          "base_uri": "https://localhost:8080/",
          "height": 284
        },
        "outputId": "ac851226-3846-40de-8ac5-c2d5a5f3d5ad"
      },
      "source": [
        "print(\"Classification Report: \\n\", classification_report(test_data_label, predict_NB,target_names=['Positive','Negative']))\n",
        "print(\"Confusion Matrix: \\n\", confusion_matrix(test_data_label, predict_NB))\n",
        "print(\"Accuracy: \\n\", accuracy_score(test_data_label, predict_NB))"
      ],
      "execution_count": null,
      "outputs": [
        {
          "output_type": "stream",
          "text": [
            "Classification Report: \n",
            "               precision    recall  f1-score   support\n",
            "\n",
            "    Positive       0.89      0.97      0.92       602\n",
            "    Negative       0.97      0.88      0.92       652\n",
            "\n",
            "    accuracy                           0.92      1254\n",
            "   macro avg       0.93      0.93      0.92      1254\n",
            "weighted avg       0.93      0.92      0.92      1254\n",
            "\n",
            "Confusion Matrix: \n",
            " [[582  20]\n",
            " [ 75 577]]\n",
            "Accuracy: \n",
            " 0.9242424242424242\n"
          ],
          "name": "stdout"
        }
      ]
    },
    {
      "cell_type": "markdown",
      "metadata": {
        "id": "gxxQqEhxbEGq",
        "colab_type": "text"
      },
      "source": [
        "**We try CountVectorizer before fit on this model**"
      ]
    },
    {
      "cell_type": "code",
      "metadata": {
        "id": "hlvEpBYYZ-cD",
        "colab_type": "code",
        "colab": {}
      },
      "source": [
        "count_vec_NB = CountVectorizer(ngram_range=(1, 3), binary=False)\n",
        "count_vec_train_NB = count_vec_NB.fit_transform(corpus_train)\n",
        "count_vec_test_NB = count_vec_NB.transform(corpus_test)"
      ],
      "execution_count": null,
      "outputs": []
    },
    {
      "cell_type": "code",
      "metadata": {
        "id": "Cqy_ASKDbKGz",
        "colab_type": "code",
        "colab": {}
      },
      "source": [
        "multi_clf_count = MultinomialNB()\n",
        "multi_clf_count.fit(count_vec_train_NB, train_data_label)\n",
        "\n",
        "predict_NB_count = multi_clf_count.predict(count_vec_test_NB)"
      ],
      "execution_count": null,
      "outputs": []
    },
    {
      "cell_type": "code",
      "metadata": {
        "id": "sPFa5o6VbOFP",
        "colab_type": "code",
        "colab": {
          "base_uri": "https://localhost:8080/",
          "height": 284
        },
        "outputId": "fc5bdad6-b9fb-450c-891b-731ed4f6927f"
      },
      "source": [
        "print(\"Classification Report: \\n\", classification_report(test_data_label, predict_NB_count,target_names=['Positive','Negative']))\n",
        "print(\"Confusion Matrix: \\n\", confusion_matrix(test_data_label, predict_NB_count))\n",
        "print(\"Accuracy: \\n\", accuracy_score(test_data_label, predict_NB_count))"
      ],
      "execution_count": null,
      "outputs": [
        {
          "output_type": "stream",
          "text": [
            "Classification Report: \n",
            "               precision    recall  f1-score   support\n",
            "\n",
            "    Positive       0.90      0.97      0.93       602\n",
            "    Negative       0.97      0.90      0.93       652\n",
            "\n",
            "    accuracy                           0.93      1254\n",
            "   macro avg       0.93      0.93      0.93      1254\n",
            "weighted avg       0.93      0.93      0.93      1254\n",
            "\n",
            "Confusion Matrix: \n",
            " [[582  20]\n",
            " [ 67 585]]\n",
            "Accuracy: \n",
            " 0.930622009569378\n"
          ],
          "name": "stdout"
        }
      ]
    },
    {
      "cell_type": "markdown",
      "metadata": {
        "id": "X6R666rNtGw3",
        "colab_type": "text"
      },
      "source": [
        "# Model Testing by User"
      ]
    },
    {
      "cell_type": "code",
      "metadata": {
        "id": "SCs8eTL1bfVW",
        "colab_type": "code",
        "colab": {
          "base_uri": "https://localhost:8080/",
          "height": 35
        },
        "outputId": "ccaaf16f-63aa-462b-d434-f9cf75793c9f"
      },
      "source": [
        "rev = str(input(\"Enter a review: \"))"
      ],
      "execution_count": null,
      "outputs": [
        {
          "output_type": "stream",
          "text": [
            "Enter a review: This is too bad, although the soundtrack is epic. The plot is so boring. During the film I'm only get excited by the main female character.\n"
          ],
          "name": "stdout"
        }
      ]
    },
    {
      "cell_type": "code",
      "metadata": {
        "id": "ILiuMv82tbLb",
        "colab_type": "code",
        "colab": {
          "base_uri": "https://localhost:8080/",
          "height": 35
        },
        "outputId": "6efe594b-39b4-4a51-efed-1bc8704a1602"
      },
      "source": [
        "print(rev)"
      ],
      "execution_count": null,
      "outputs": [
        {
          "output_type": "stream",
          "text": [
            "This is too bad, although the soundtrack is epic. The plot is so boring. During the film I'm only get excited by the main female character.\n"
          ],
          "name": "stdout"
        }
      ]
    },
    {
      "cell_type": "code",
      "metadata": {
        "id": "_wrc1v-XtpaT",
        "colab_type": "code",
        "colab": {}
      },
      "source": [
        "rev_train = preprocess(rev)"
      ],
      "execution_count": null,
      "outputs": []
    },
    {
      "cell_type": "code",
      "metadata": {
        "id": "yc4vuenQvmvN",
        "colab_type": "code",
        "colab": {
          "base_uri": "https://localhost:8080/",
          "height": 36
        },
        "outputId": "d9fdf2ab-2854-4b0c-9b2b-b0b3b750d4c5"
      },
      "source": [
        "rev_train"
      ],
      "execution_count": null,
      "outputs": [
        {
          "output_type": "execute_result",
          "data": {
            "application/vnd.google.colaboratory.intrinsic+json": {
              "type": "string"
            },
            "text/plain": [
              "'bad although soundtrack epic plot boring film get excited main female character'"
            ]
          },
          "metadata": {
            "tags": []
          },
          "execution_count": 49
        }
      ]
    },
    {
      "cell_type": "markdown",
      "metadata": {
        "id": "Fa8lOda_vs1w",
        "colab_type": "text"
      },
      "source": [
        "**I will try to apply both CountVectorizer and TF-IDF to this review**"
      ]
    },
    {
      "cell_type": "code",
      "metadata": {
        "id": "rYdTlp3kvn4G",
        "colab_type": "code",
        "colab": {}
      },
      "source": [
        "rev_tf = tfidf_vec.transform([rev_train]).toarray()"
      ],
      "execution_count": null,
      "outputs": []
    },
    {
      "cell_type": "code",
      "metadata": {
        "id": "SD5oU-gswDST",
        "colab_type": "code",
        "colab": {}
      },
      "source": [
        "y_pred = model_LR.predict(rev_tf)"
      ],
      "execution_count": null,
      "outputs": []
    },
    {
      "cell_type": "code",
      "metadata": {
        "id": "UdqOQouEwwqb",
        "colab_type": "code",
        "colab": {}
      },
      "source": [
        "if y_pred == 0:\n",
        "  print(\"Positive\")\n",
        "if y_pred == 1:\n",
        "  print(\"Negative\")"
      ],
      "execution_count": null,
      "outputs": []
    },
    {
      "cell_type": "code",
      "metadata": {
        "id": "OWMvJxWMwyOh",
        "colab_type": "code",
        "colab": {}
      },
      "source": [
        "def test_by_user():\n",
        "  rev = str(input(\"Enter a review: \"))\n",
        "  print(rev)\n",
        "  rev_train = preprocess(rev)\n",
        "  rev_tf = tfidf_vec.transform([rev_train]).toarray()\n",
        "  y_pred = int(model_LR.predict(rev_tf))\n",
        "  \n",
        "  if y_pred == 0:\n",
        "    print(\"Positive\")\n",
        "  if y_pred == 1:\n",
        "    print(\"Negative\")"
      ],
      "execution_count": null,
      "outputs": []
    },
    {
      "cell_type": "code",
      "metadata": {
        "id": "ejTTBT0UxsiY",
        "colab_type": "code",
        "colab": {
          "base_uri": "https://localhost:8080/",
          "height": 90
        },
        "outputId": "8d1ebdc4-f843-40bd-9cef-deddee848abb"
      },
      "source": [
        "test_by_user()"
      ],
      "execution_count": null,
      "outputs": [
        {
          "output_type": "stream",
          "text": [
            "Enter a review:  When a torpedo careens right off the side of the Keeling at one point, the action beat stands out from the shapeless cacophony of screams and explosions that \"Greyhound\" substitutes in lieu of coherent naval warfare.\n",
            " When a torpedo careens right off the side of the Keeling at one point, the action beat stands out from the shapeless cacophony of screams and explosions that \"Greyhound\" substitutes in lieu of coherent naval warfare.\n",
            "Negative\n"
          ],
          "name": "stdout"
        }
      ]
    },
    {
      "cell_type": "code",
      "metadata": {
        "id": "PwCko4WnxutC",
        "colab_type": "code",
        "colab": {}
      },
      "source": [
        ""
      ],
      "execution_count": null,
      "outputs": []
    },
    {
      "cell_type": "markdown",
      "metadata": {
        "id": "0xN6or7f62gU",
        "colab_type": "text"
      },
      "source": [
        "# **Conclusion**\n",
        "- 3 algorithm give results of from **92-93 percent** of prediction\n",
        "- The reason may be due to the size of the dataset(~6k reviews), compared to a 60k IMDB reviews on Kaggle (https://www.kaggle.com/lakshmi25npathi/imdb-dataset-of-50k-movie-reviews?select=IMDB+Dataset.csv). The result on Kaggle on the 60k IMDB reviews dataset are **87-89 percent** of prediction(https://www.kaggle.com/subhamoybhaduri/approaches-of-nlp-and-sentiment-classification)\n",
        "- It is also because this is only a **binary classification**\n",
        "# **Future work**\n",
        "- Enlarge the dataset\n",
        "- Work with 3 label(positive, negative, neutral) or more (very interesting, interesting, neutral, boring, don't care)"
      ]
    },
    {
      "cell_type": "code",
      "metadata": {
        "id": "O1EaRw0p8DtR",
        "colab_type": "code",
        "colab": {}
      },
      "source": [
        ""
      ],
      "execution_count": null,
      "outputs": []
    }
  ]
}