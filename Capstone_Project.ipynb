{
  "nbformat": 4,
  "nbformat_minor": 0,
  "metadata": {
    "colab": {
      "name": "Capstone Project.ipynb",
      "provenance": [],
      "authorship_tag": "ABX9TyOuoJdTV6unK6KXm+G4tcgI",
      "include_colab_link": true
    },
    "kernelspec": {
      "name": "python3",
      "display_name": "Python 3"
    }
  },
  "cells": [
    {
      "cell_type": "markdown",
      "metadata": {
        "id": "view-in-github",
        "colab_type": "text"
      },
      "source": [
        "<a href=\"https://colab.research.google.com/github/volinhbao/CS114.K21.KHTN/blob/master/Capstone_Project.ipynb\" target=\"_parent\"><img src=\"https://colab.research.google.com/assets/colab-badge.svg\" alt=\"Open In Colab\"/></a>"
      ]
    },
    {
      "cell_type": "code",
      "metadata": {
        "id": "3QLcEXc2rYzQ",
        "colab_type": "code",
        "colab": {}
      },
      "source": [
        "import pandas as pd\n"
      ],
      "execution_count": 87,
      "outputs": []
    },
    {
      "cell_type": "code",
      "metadata": {
        "id": "gZ88cgX9sP04",
        "colab_type": "code",
        "colab": {
          "base_uri": "https://localhost:8080/",
          "height": 194
        },
        "outputId": "6800acc3-785c-4bc8-a27e-e5fd10bd0125"
      },
      "source": [
        "dataset = pd.read_csv('/content/imdb-reviews-dataset.csv',header = 0)\n",
        "dataset.head()"
      ],
      "execution_count": 88,
      "outputs": [
        {
          "output_type": "execute_result",
          "data": {
            "text/html": [
              "<div>\n",
              "<style scoped>\n",
              "    .dataframe tbody tr th:only-of-type {\n",
              "        vertical-align: middle;\n",
              "    }\n",
              "\n",
              "    .dataframe tbody tr th {\n",
              "        vertical-align: top;\n",
              "    }\n",
              "\n",
              "    .dataframe thead th {\n",
              "        text-align: right;\n",
              "    }\n",
              "</style>\n",
              "<table border=\"1\" class=\"dataframe\">\n",
              "  <thead>\n",
              "    <tr style=\"text-align: right;\">\n",
              "      <th></th>\n",
              "      <th>movie</th>\n",
              "      <th>title</th>\n",
              "      <th>review</th>\n",
              "      <th>isPos</th>\n",
              "    </tr>\n",
              "  </thead>\n",
              "  <tbody>\n",
              "    <tr>\n",
              "      <th>0</th>\n",
              "      <td>Joker</td>\n",
              "      <td>As a viewer that actually went to TIFF and wit...</td>\n",
              "      <td>I was a person that saw all the hype and claim...</td>\n",
              "      <td>0</td>\n",
              "    </tr>\n",
              "    <tr>\n",
              "      <th>1</th>\n",
              "      <td>Joker</td>\n",
              "      <td>Outstanding movie with a haunting performance ...</td>\n",
              "      <td>Every once in a while a movie comes, that trul...</td>\n",
              "      <td>0</td>\n",
              "    </tr>\n",
              "    <tr>\n",
              "      <th>2</th>\n",
              "      <td>Joker</td>\n",
              "      <td>Only certain people can relate</td>\n",
              "      <td>This is a movie that only those who have felt ...</td>\n",
              "      <td>0</td>\n",
              "    </tr>\n",
              "    <tr>\n",
              "      <th>3</th>\n",
              "      <td>Joker</td>\n",
              "      <td>Perfect in every aspect.</td>\n",
              "      <td>Truly a masterpiece, The Best Hollywood film o...</td>\n",
              "      <td>0</td>\n",
              "    </tr>\n",
              "    <tr>\n",
              "      <th>4</th>\n",
              "      <td>Joker</td>\n",
              "      <td>MASTERPIECE 😍</td>\n",
              "      <td>Joaquin Phoenix gives a tour de force performa...</td>\n",
              "      <td>0</td>\n",
              "    </tr>\n",
              "  </tbody>\n",
              "</table>\n",
              "</div>"
            ],
            "text/plain": [
              "   movie  ... isPos\n",
              "0  Joker  ...     0\n",
              "1  Joker  ...     0\n",
              "2  Joker  ...     0\n",
              "3  Joker  ...     0\n",
              "4  Joker  ...     0\n",
              "\n",
              "[5 rows x 4 columns]"
            ]
          },
          "metadata": {
            "tags": []
          },
          "execution_count": 88
        }
      ]
    },
    {
      "cell_type": "code",
      "metadata": {
        "id": "6Dd6Uhi0t1RE",
        "colab_type": "code",
        "colab": {
          "base_uri": "https://localhost:8080/",
          "height": 399
        },
        "outputId": "f125f04f-3757-4c92-fa4e-1e410db6a856"
      },
      "source": [
        "dataset"
      ],
      "execution_count": 89,
      "outputs": [
        {
          "output_type": "execute_result",
          "data": {
            "text/html": [
              "<div>\n",
              "<style scoped>\n",
              "    .dataframe tbody tr th:only-of-type {\n",
              "        vertical-align: middle;\n",
              "    }\n",
              "\n",
              "    .dataframe tbody tr th {\n",
              "        vertical-align: top;\n",
              "    }\n",
              "\n",
              "    .dataframe thead th {\n",
              "        text-align: right;\n",
              "    }\n",
              "</style>\n",
              "<table border=\"1\" class=\"dataframe\">\n",
              "  <thead>\n",
              "    <tr style=\"text-align: right;\">\n",
              "      <th></th>\n",
              "      <th>movie</th>\n",
              "      <th>title</th>\n",
              "      <th>review</th>\n",
              "      <th>isPos</th>\n",
              "    </tr>\n",
              "  </thead>\n",
              "  <tbody>\n",
              "    <tr>\n",
              "      <th>0</th>\n",
              "      <td>Joker</td>\n",
              "      <td>As a viewer that actually went to TIFF and wit...</td>\n",
              "      <td>I was a person that saw all the hype and claim...</td>\n",
              "      <td>0</td>\n",
              "    </tr>\n",
              "    <tr>\n",
              "      <th>1</th>\n",
              "      <td>Joker</td>\n",
              "      <td>Outstanding movie with a haunting performance ...</td>\n",
              "      <td>Every once in a while a movie comes, that trul...</td>\n",
              "      <td>0</td>\n",
              "    </tr>\n",
              "    <tr>\n",
              "      <th>2</th>\n",
              "      <td>Joker</td>\n",
              "      <td>Only certain people can relate</td>\n",
              "      <td>This is a movie that only those who have felt ...</td>\n",
              "      <td>0</td>\n",
              "    </tr>\n",
              "    <tr>\n",
              "      <th>3</th>\n",
              "      <td>Joker</td>\n",
              "      <td>Perfect in every aspect.</td>\n",
              "      <td>Truly a masterpiece, The Best Hollywood film o...</td>\n",
              "      <td>0</td>\n",
              "    </tr>\n",
              "    <tr>\n",
              "      <th>4</th>\n",
              "      <td>Joker</td>\n",
              "      <td>MASTERPIECE 😍</td>\n",
              "      <td>Joaquin Phoenix gives a tour de force performa...</td>\n",
              "      <td>0</td>\n",
              "    </tr>\n",
              "    <tr>\n",
              "      <th>...</th>\n",
              "      <td>...</td>\n",
              "      <td>...</td>\n",
              "      <td>...</td>\n",
              "      <td>...</td>\n",
              "    </tr>\n",
              "    <tr>\n",
              "      <th>6280</th>\n",
              "      <td>Thor: Ragnarok</td>\n",
              "      <td>Bad casting welcome back cheesy movies</td>\n",
              "      <td>This is like the old Batman movies with Jim Ca...</td>\n",
              "      <td>1</td>\n",
              "    </tr>\n",
              "    <tr>\n",
              "      <th>6281</th>\n",
              "      <td>Thor: Ragnarok</td>\n",
              "      <td>Surreal</td>\n",
              "      <td>The Good: Visually I loved pretty much everyth...</td>\n",
              "      <td>1</td>\n",
              "    </tr>\n",
              "    <tr>\n",
              "      <th>6282</th>\n",
              "      <td>Thor: Ragnarok</td>\n",
              "      <td>Identitiy Politics barf</td>\n",
              "      <td>Yeah, it started a few years before, but this ...</td>\n",
              "      <td>1</td>\n",
              "    </tr>\n",
              "    <tr>\n",
              "      <th>6283</th>\n",
              "      <td>Thor: Ragnarok</td>\n",
              "      <td>MCU doesn't suck but this movie SUCKS (get it)</td>\n",
              "      <td>I may be late to review this movie but better ...</td>\n",
              "      <td>1</td>\n",
              "    </tr>\n",
              "    <tr>\n",
              "      <th>6284</th>\n",
              "      <td>Thor: Ragnarok</td>\n",
              "      <td>Overrated movie beyond imagination</td>\n",
              "      <td>Thor sense of humor is like a boy trying so ha...</td>\n",
              "      <td>1</td>\n",
              "    </tr>\n",
              "  </tbody>\n",
              "</table>\n",
              "<p>6285 rows × 4 columns</p>\n",
              "</div>"
            ],
            "text/plain": [
              "               movie  ... isPos\n",
              "0              Joker  ...     0\n",
              "1              Joker  ...     0\n",
              "2              Joker  ...     0\n",
              "3              Joker  ...     0\n",
              "4              Joker  ...     0\n",
              "...              ...  ...   ...\n",
              "6280  Thor: Ragnarok  ...     1\n",
              "6281  Thor: Ragnarok  ...     1\n",
              "6282  Thor: Ragnarok  ...     1\n",
              "6283  Thor: Ragnarok  ...     1\n",
              "6284  Thor: Ragnarok  ...     1\n",
              "\n",
              "[6285 rows x 4 columns]"
            ]
          },
          "metadata": {
            "tags": []
          },
          "execution_count": 89
        }
      ]
    },
    {
      "cell_type": "markdown",
      "metadata": {
        "id": "BXO0CgVf3iWP",
        "colab_type": "text"
      },
      "source": [
        "Dataset is not skewed\n"
      ]
    },
    {
      "cell_type": "code",
      "metadata": {
        "id": "A3qu8bQOryge",
        "colab_type": "code",
        "colab": {
          "base_uri": "https://localhost:8080/",
          "height": 297
        },
        "outputId": "cf7e0c67-6027-4288-909c-1455ddd529e8"
      },
      "source": [
        "import seaborn as sns\n",
        "\n",
        "sns.countplot(dataset.isPos)"
      ],
      "execution_count": 90,
      "outputs": [
        {
          "output_type": "execute_result",
          "data": {
            "text/plain": [
              "<matplotlib.axes._subplots.AxesSubplot at 0x7f4d008e4080>"
            ]
          },
          "metadata": {
            "tags": []
          },
          "execution_count": 90
        },
        {
          "output_type": "display_data",
          "data": {
            "image/png": "[encoded data removed]",
            "text/plain": [
              "<Figure size 432x288 with 1 Axes>"
            ]
          },
          "metadata": {
            "tags": [],
            "needs_background": "light"
          }
        }
      ]
    },
    {
      "cell_type": "code",
      "metadata": {
        "id": "0zkD2zGDr0is",
        "colab_type": "code",
        "colab": {
          "base_uri": "https://localhost:8080/",
          "height": 106
        },
        "outputId": "c4c37e8b-fac5-49ba-80c9-af4d918e7358"
      },
      "source": [
        "dataset.isna().sum()"
      ],
      "execution_count": 91,
      "outputs": [
        {
          "output_type": "execute_result",
          "data": {
            "text/plain": [
              "movie     0\n",
              "title     0\n",
              "review    0\n",
              "isPos     0\n",
              "dtype: int64"
            ]
          },
          "metadata": {
            "tags": []
          },
          "execution_count": 91
        }
      ]
    },
    {
      "cell_type": "code",
      "metadata": {
        "id": "rr9sEnMl4gtH",
        "colab_type": "code",
        "colab": {
          "base_uri": "https://localhost:8080/",
          "height": 35
        },
        "outputId": "e3519d3f-f944-456a-c371-8c3f3ff606a1"
      },
      "source": [
        "dataset.shape"
      ],
      "execution_count": 92,
      "outputs": [
        {
          "output_type": "execute_result",
          "data": {
            "text/plain": [
              "(6285, 4)"
            ]
          },
          "metadata": {
            "tags": []
          },
          "execution_count": 92
        }
      ]
    },
    {
      "cell_type": "code",
      "metadata": {
        "id": "Z3JuZ-RaEiwd",
        "colab_type": "code",
        "colab": {
          "base_uri": "https://localhost:8080/",
          "height": 88
        },
        "outputId": "13b9f748-8f03-4268-b22e-472cb6a51b8d"
      },
      "source": [
        "dataset.isPos.value_counts()"
      ],
      "execution_count": 93,
      "outputs": [
        {
          "output_type": "execute_result",
          "data": {
            "text/plain": [
              "1        3144\n",
              "0        3125\n",
              "isPos      16\n",
              "Name: isPos, dtype: int64"
            ]
          },
          "metadata": {
            "tags": []
          },
          "execution_count": 93
        }
      ]
    },
    {
      "cell_type": "code",
      "metadata": {
        "id": "cC-NtJJftHqN",
        "colab_type": "code",
        "colab": {}
      },
      "source": [
        "dataset.to_csv('/content/imdb-reviews-dataset.csv',index=False)"
      ],
      "execution_count": 115,
      "outputs": []
    },
    {
      "cell_type": "markdown",
      "metadata": {
        "id": "TlBidzUUAf8_",
        "colab_type": "text"
      },
      "source": [
        "#**Preprocessing**\n",
        "\n"
      ]
    },
    {
      "cell_type": "code",
      "metadata": {
        "id": "DIUHydRFsWdc",
        "colab_type": "code",
        "colab": {
          "base_uri": "https://localhost:8080/",
          "height": 399
        },
        "outputId": "0b3a9d37-ff9a-4e13-f1bc-3dcc3cc5f0b0"
      },
      "source": [
        "dataset = dataset.rename(columns = {'Movie':'movie','Title':'title','Review':'review'})\n",
        "dataset"
      ],
      "execution_count": 95,
      "outputs": [
        {
          "output_type": "execute_result",
          "data": {
            "text/html": [
              "<div>\n",
              "<style scoped>\n",
              "    .dataframe tbody tr th:only-of-type {\n",
              "        vertical-align: middle;\n",
              "    }\n",
              "\n",
              "    .dataframe tbody tr th {\n",
              "        vertical-align: top;\n",
              "    }\n",
              "\n",
              "    .dataframe thead th {\n",
              "        text-align: right;\n",
              "    }\n",
              "</style>\n",
              "<table border=\"1\" class=\"dataframe\">\n",
              "  <thead>\n",
              "    <tr style=\"text-align: right;\">\n",
              "      <th></th>\n",
              "      <th>movie</th>\n",
              "      <th>title</th>\n",
              "      <th>review</th>\n",
              "      <th>isPos</th>\n",
              "    </tr>\n",
              "  </thead>\n",
              "  <tbody>\n",
              "    <tr>\n",
              "      <th>0</th>\n",
              "      <td>Joker</td>\n",
              "      <td>As a viewer that actually went to TIFF and wit...</td>\n",
              "      <td>I was a person that saw all the hype and claim...</td>\n",
              "      <td>0</td>\n",
              "    </tr>\n",
              "    <tr>\n",
              "      <th>1</th>\n",
              "      <td>Joker</td>\n",
              "      <td>Outstanding movie with a haunting performance ...</td>\n",
              "      <td>Every once in a while a movie comes, that trul...</td>\n",
              "      <td>0</td>\n",
              "    </tr>\n",
              "    <tr>\n",
              "      <th>2</th>\n",
              "      <td>Joker</td>\n",
              "      <td>Only certain people can relate</td>\n",
              "      <td>This is a movie that only those who have felt ...</td>\n",
              "      <td>0</td>\n",
              "    </tr>\n",
              "    <tr>\n",
              "      <th>3</th>\n",
              "      <td>Joker</td>\n",
              "      <td>Perfect in every aspect.</td>\n",
              "      <td>Truly a masterpiece, The Best Hollywood film o...</td>\n",
              "      <td>0</td>\n",
              "    </tr>\n",
              "    <tr>\n",
              "      <th>4</th>\n",
              "      <td>Joker</td>\n",
              "      <td>MASTERPIECE 😍</td>\n",
              "      <td>Joaquin Phoenix gives a tour de force performa...</td>\n",
              "      <td>0</td>\n",
              "    </tr>\n",
              "    <tr>\n",
              "      <th>...</th>\n",
              "      <td>...</td>\n",
              "      <td>...</td>\n",
              "      <td>...</td>\n",
              "      <td>...</td>\n",
              "    </tr>\n",
              "    <tr>\n",
              "      <th>6280</th>\n",
              "      <td>Thor: Ragnarok</td>\n",
              "      <td>Bad casting welcome back cheesy movies</td>\n",
              "      <td>This is like the old Batman movies with Jim Ca...</td>\n",
              "      <td>1</td>\n",
              "    </tr>\n",
              "    <tr>\n",
              "      <th>6281</th>\n",
              "      <td>Thor: Ragnarok</td>\n",
              "      <td>Surreal</td>\n",
              "      <td>The Good: Visually I loved pretty much everyth...</td>\n",
              "      <td>1</td>\n",
              "    </tr>\n",
              "    <tr>\n",
              "      <th>6282</th>\n",
              "      <td>Thor: Ragnarok</td>\n",
              "      <td>Identitiy Politics barf</td>\n",
              "      <td>Yeah, it started a few years before, but this ...</td>\n",
              "      <td>1</td>\n",
              "    </tr>\n",
              "    <tr>\n",
              "      <th>6283</th>\n",
              "      <td>Thor: Ragnarok</td>\n",
              "      <td>MCU doesn't suck but this movie SUCKS (get it)</td>\n",
              "      <td>I may be late to review this movie but better ...</td>\n",
              "      <td>1</td>\n",
              "    </tr>\n",
              "    <tr>\n",
              "      <th>6284</th>\n",
              "      <td>Thor: Ragnarok</td>\n",
              "      <td>Overrated movie beyond imagination</td>\n",
              "      <td>Thor sense of humor is like a boy trying so ha...</td>\n",
              "      <td>1</td>\n",
              "    </tr>\n",
              "  </tbody>\n",
              "</table>\n",
              "<p>6285 rows × 4 columns</p>\n",
              "</div>"
            ],
            "text/plain": [
              "               movie  ... isPos\n",
              "0              Joker  ...     0\n",
              "1              Joker  ...     0\n",
              "2              Joker  ...     0\n",
              "3              Joker  ...     0\n",
              "4              Joker  ...     0\n",
              "...              ...  ...   ...\n",
              "6280  Thor: Ragnarok  ...     1\n",
              "6281  Thor: Ragnarok  ...     1\n",
              "6282  Thor: Ragnarok  ...     1\n",
              "6283  Thor: Ragnarok  ...     1\n",
              "6284  Thor: Ragnarok  ...     1\n",
              "\n",
              "[6285 rows x 4 columns]"
            ]
          },
          "metadata": {
            "tags": []
          },
          "execution_count": 95
        }
      ]
    },
    {
      "cell_type": "code",
      "metadata": {
        "id": "zlnPD1Kbtg2G",
        "colab_type": "code",
        "colab": {}
      },
      "source": [
        "dataset.to_csv('/content/imdb-reviews-dataset.csv',index=False)"
      ],
      "execution_count": 96,
      "outputs": []
    },
    {
      "cell_type": "markdown",
      "metadata": {
        "id": "bhhjqPWEtye4",
        "colab_type": "text"
      },
      "source": [
        "### Let's take a look at a arbitrary review\n"
      ]
    },
    {
      "cell_type": "code",
      "metadata": {
        "id": "04VXK0i8t-hC",
        "colab_type": "code",
        "colab": {
          "base_uri": "https://localhost:8080/",
          "height": 71
        },
        "outputId": "9774c81d-30ec-46c4-d87b-73932e59b51a"
      },
      "source": [
        "dataset.review.loc[1245]"
      ],
      "execution_count": 97,
      "outputs": [
        {
          "output_type": "execute_result",
          "data": {
            "application/vnd.google.colaboratory.intrinsic+json": {
              "type": "string"
            },
            "text/plain": [
              "'Those who complain and give bad reviews because of the \"slow pace\" or lack of action in this movie are the people in life that you should be weary of. It separates those who are willing to dive deep into life\\'s tumultuous seas or just be happy living superficially on its surface.5 out of 10 found this helpful.Was this review helpful?Sign into vote.Permalink'"
            ]
          },
          "metadata": {
            "tags": []
          },
          "execution_count": 97
        }
      ]
    },
    {
      "cell_type": "markdown",
      "metadata": {
        "id": "1H-SpE6tuQuv",
        "colab_type": "text"
      },
      "source": [
        "Because HTML tags were removed in the crawling step, so we'll skip that step and come to remove all other character that's NOT alphabet using Regular Expression"
      ]
    },
    {
      "cell_type": "code",
      "metadata": {
        "id": "RXqLwDqg3z_h",
        "colab_type": "code",
        "colab": {
          "base_uri": "https://localhost:8080/",
          "height": 124
        },
        "outputId": "13505ff4-bb87-4824-fad4-a5e65c67bc62"
      },
      "source": [
        "import re\n",
        "import nltk\n",
        "nltk.download('punkt')\n",
        "nltk.download('wordnet')\n",
        "from nltk.tokenize import word_tokenize\n",
        "nltk.download('stopwords')\n",
        "from nltk.corpus import stopwords\n",
        "from nltk.stem import WordNetLemmatizer\n",
        "\n",
        "stop_words = set(stopwords.words('english'))\n",
        "lem = WordNetLemmatizer()"
      ],
      "execution_count": 98,
      "outputs": [
        {
          "output_type": "stream",
          "text": [
            "[nltk_data] Downloading package punkt to /root/nltk_data...\n",
            "[nltk_data]   Package punkt is already up-to-date!\n",
            "[nltk_data] Downloading package wordnet to /root/nltk_data...\n",
            "[nltk_data]   Package wordnet is already up-to-date!\n",
            "[nltk_data] Downloading package stopwords to /root/nltk_data...\n",
            "[nltk_data]   Package stopwords is already up-to-date!\n"
          ],
          "name": "stdout"
        }
      ]
    },
    {
      "cell_type": "code",
      "metadata": {
        "id": "eJs_oh-d3i-t",
        "colab_type": "code",
        "colab": {
          "base_uri": "https://localhost:8080/",
          "height": 35
        },
        "outputId": "f334ade0-32bb-4599-f836-0147ba876873"
      },
      "source": [
        "foo = 'A /very \\\\terrible very-old-time-BBC \\'s '\n",
        "print(foo)"
      ],
      "execution_count": 99,
      "outputs": [
        {
          "output_type": "stream",
          "text": [
            "A /very \\terrible very-old-time-BBC 's \n"
          ],
          "name": "stdout"
        }
      ]
    },
    {
      "cell_type": "code",
      "metadata": {
        "id": "i26W6plm3p6y",
        "colab_type": "code",
        "colab": {
          "base_uri": "https://localhost:8080/",
          "height": 35
        },
        "outputId": "37b7d8ce-2d6c-4eaf-f558-37e9c293468e"
      },
      "source": [
        "\n",
        "foo = re.sub('[^a-zA-Z]', ' ', foo)\n",
        "print(foo)"
      ],
      "execution_count": 100,
      "outputs": [
        {
          "output_type": "stream",
          "text": [
            "A  very  terrible very old time BBC  s \n"
          ],
          "name": "stdout"
        }
      ]
    },
    {
      "cell_type": "code",
      "metadata": {
        "id": "_BFlXtm26FHJ",
        "colab_type": "code",
        "colab": {}
      },
      "source": [
        "def preprocess(reviews):\n",
        "  for review in reviews:\n",
        "    # Remove all characters NOT alphabet\n",
        "    review = re.sub('[^a-zA-Z]', ' ', review)\n",
        "\n",
        "    # Remove 'permalink'\n",
        "    review = re.sub('Permalink','',review)\n",
        "    # Lowercase the review\n",
        "    review = review.lower()\n",
        "\n",
        "    # Split the review into words using Word Tokenizer\n",
        "    review = word_tokenize(review)\n",
        "    print('Tokenize: ',review)\n",
        "    # Remove stopwords\n",
        "    review = [word for word in review if not word in stop_words]\n",
        "    print(review)\n",
        "    # Lemmatizing the tokens\n",
        "    review = [lem.lemmatize(word) for word in review]\n",
        "    print('Lemma: ', review)\n",
        "    # Merge the tokens back to a full review\n",
        "    review = ' '.join(review)\n",
        "  return reviews"
      ],
      "execution_count": 101,
      "outputs": []
    },
    {
      "cell_type": "code",
      "metadata": {
        "id": "GdyLdHDKAgas",
        "colab_type": "code",
        "colab": {
          "base_uri": "https://localhost:8080/",
          "height": 304
        },
        "outputId": "3864254c-e552-4d86-e13d-5831bfba7292"
      },
      "source": [
        "foo_test = preprocess(dataset.review[:5])"
      ],
      "execution_count": 102,
      "outputs": [
        {
          "output_type": "stream",
          "text": [
            "Tokenize:  ['i', 'was', 'a', 'person', 'that', 'saw', 'all', 'the', 'hype', 'and', 'claims', 'of', 'masterpiece', 'as', 'overreacting', 'and', 'overblown', 'excitement', 'for', 'another', 'joker', 'based', 'film', 'i', 'thought', 'this', 'looked', 'solid', 'at', 'best', 'and', 'even', 'a', 'bit', 'too', 'pretentious', 'in', 'the', 'trailer', 'but', 'in', 'here', 'to', 'say', 'i', 'was', 'incredibly', 'wrong', 'this', 'is', 'a', 'massive', 'achievement', 'of', 'cinema', 'that', 's', 'extremely', 'rare', 'in', 'a', 'day', 'and', 'age', 'of', 'cgi', 'nonsense', 'and', 'reboots', 'while', 'this', 'is', 'somewhat', 'of', 'a', 'reboot', 'of', 'sorts', 'the', 'standalone', 'origin', 'tale', 'is', 'impeccable', 'from', 'start', 'to', 'finish', 'and', 'echoes', 'resemblance', 'to', 'the', 'best', 'joker', 'origin', 'comics', 'from', 'the', 'past', 'joaquin', 'bleeds', 'sweats', 'and', 'cries', 'his', 'every', 'drop', 'into', 'this', 'magnificently', 'dedicated', 'performance', 'heath', 'ledger', 'would', 'be', 'proud', 'this', 'is', 'undoubtedly', 'the', 'greatest', 'acting', 'performance', 'since', 'heath', 's', 'joker', 'the', 'directing', 'and', 'writing', 'is', 'slickly', 'brilliant', 'and', 'the', 'bleak', 'settings', 'and', 'tones', 'are', 'palpable', 'throughout', 'when', 'this', 'film', 'was', 'over', 'the', 'place', 'was', 'blown', 'away', 'and', 'every', 'audience', 'member', 'was', 'awestruck', 'that', 'they', 'witnessed', 'a', 'film', 'that', 'could', 'still', 'transport', 'them', 'into', 'a', 'character', 's', 'world', 'and', 'very', 'existence', 'believe', 'the', 'hype', 'this', 'is', 'going', 'to', 'be', 'revered', 'as', 'a', 'transcending', 'masterpiece', 'of', 'cinema']\n",
            "['person', 'saw', 'hype', 'claims', 'masterpiece', 'overreacting', 'overblown', 'excitement', 'another', 'joker', 'based', 'film', 'thought', 'looked', 'solid', 'best', 'even', 'bit', 'pretentious', 'trailer', 'say', 'incredibly', 'wrong', 'massive', 'achievement', 'cinema', 'extremely', 'rare', 'day', 'age', 'cgi', 'nonsense', 'reboots', 'somewhat', 'reboot', 'sorts', 'standalone', 'origin', 'tale', 'impeccable', 'start', 'finish', 'echoes', 'resemblance', 'best', 'joker', 'origin', 'comics', 'past', 'joaquin', 'bleeds', 'sweats', 'cries', 'every', 'drop', 'magnificently', 'dedicated', 'performance', 'heath', 'ledger', 'would', 'proud', 'undoubtedly', 'greatest', 'acting', 'performance', 'since', 'heath', 'joker', 'directing', 'writing', 'slickly', 'brilliant', 'bleak', 'settings', 'tones', 'palpable', 'throughout', 'film', 'place', 'blown', 'away', 'every', 'audience', 'member', 'awestruck', 'witnessed', 'film', 'could', 'still', 'transport', 'character', 'world', 'existence', 'believe', 'hype', 'going', 'revered', 'transcending', 'masterpiece', 'cinema']\n",
            "Lemma:  ['person', 'saw', 'hype', 'claim', 'masterpiece', 'overreacting', 'overblown', 'excitement', 'another', 'joker', 'based', 'film', 'thought', 'looked', 'solid', 'best', 'even', 'bit', 'pretentious', 'trailer', 'say', 'incredibly', 'wrong', 'massive', 'achievement', 'cinema', 'extremely', 'rare', 'day', 'age', 'cgi', 'nonsense', 'reboots', 'somewhat', 'reboot', 'sort', 'standalone', 'origin', 'tale', 'impeccable', 'start', 'finish', 'echo', 'resemblance', 'best', 'joker', 'origin', 'comic', 'past', 'joaquin', 'bleeds', 'sweat', 'cry', 'every', 'drop', 'magnificently', 'dedicated', 'performance', 'heath', 'ledger', 'would', 'proud', 'undoubtedly', 'greatest', 'acting', 'performance', 'since', 'heath', 'joker', 'directing', 'writing', 'slickly', 'brilliant', 'bleak', 'setting', 'tone', 'palpable', 'throughout', 'film', 'place', 'blown', 'away', 'every', 'audience', 'member', 'awestruck', 'witnessed', 'film', 'could', 'still', 'transport', 'character', 'world', 'existence', 'believe', 'hype', 'going', 'revered', 'transcending', 'masterpiece', 'cinema']\n",
            "Tokenize:  ['every', 'once', 'in', 'a', 'while', 'a', 'movie', 'comes', 'that', 'truly', 'makes', 'an', 'impact', 'joaquin', 's', 'performance', 'and', 'scenography', 'in', 'all', 'it', 's', 'brilliance', 'grotesque', 'haunting', 'and', 'cringy', 'hard', 'to', 'watch', 'at', 'times', 'but', 'so', 'mesmerizing', 'you', 'won', 't', 'blink', 'an', 'eye', 'watching', 'it', 'tragic', 'but', 'with', 'seriously', 'funny', 'moments', 'emotional', 'rollercoaster', 'sometimes', 'with', 'multiple', 'emotions', 'popping', 'up', 'at', 'the', 'same', 'time', 'this', 'is', 'far', 'from', 'a', 'typical', 'action', 'riddled', 'predictable', 'super', 'hero', 'movie', 'it', 's', 'a', 'proper', 'psychological', 'thriller', 'drama', 'with', 'the', 'single', 'best', 'character', 'development', 'i', 'have', 'ever', 'seen', 'out', 'of', 'found', 'this', 'helpful', 'was', 'this', 'review', 'helpful', 'sign', 'into', 'vote']\n",
            "['every', 'movie', 'comes', 'truly', 'makes', 'impact', 'joaquin', 'performance', 'scenography', 'brilliance', 'grotesque', 'haunting', 'cringy', 'hard', 'watch', 'times', 'mesmerizing', 'blink', 'eye', 'watching', 'tragic', 'seriously', 'funny', 'moments', 'emotional', 'rollercoaster', 'sometimes', 'multiple', 'emotions', 'popping', 'time', 'far', 'typical', 'action', 'riddled', 'predictable', 'super', 'hero', 'movie', 'proper', 'psychological', 'thriller', 'drama', 'single', 'best', 'character', 'development', 'ever', 'seen', 'found', 'helpful', 'review', 'helpful', 'sign', 'vote']\n",
            "Lemma:  ['every', 'movie', 'come', 'truly', 'make', 'impact', 'joaquin', 'performance', 'scenography', 'brilliance', 'grotesque', 'haunting', 'cringy', 'hard', 'watch', 'time', 'mesmerizing', 'blink', 'eye', 'watching', 'tragic', 'seriously', 'funny', 'moment', 'emotional', 'rollercoaster', 'sometimes', 'multiple', 'emotion', 'popping', 'time', 'far', 'typical', 'action', 'riddled', 'predictable', 'super', 'hero', 'movie', 'proper', 'psychological', 'thriller', 'drama', 'single', 'best', 'character', 'development', 'ever', 'seen', 'found', 'helpful', 'review', 'helpful', 'sign', 'vote']\n",
            "Tokenize:  ['this', 'is', 'a', 'movie', 'that', 'only', 'those', 'who', 'have', 'felt', 'alone', 'and', 'isolated', 'can', 'truly', 'relate', 'to', 'it', 'you', 'understand', 'the', 'motive', 'and', 'you', 'feel', 'sorry', 'for', 'the', 'character', 'a', 'lot', 'of', 'people', 'will', 'see', 'this', 'movie', 'and', 'think', 'that', 'it', 'encourages', 'violence', 'but', 'truly', 'this', 'movie', 'should', 'encourage', 'each', 'and', 'every', 'one', 'of', 'us', 'to', 'become', 'a', 'better', 'person', 'treat', 'everyone', 'with', 'respect', 'and', 'make', 'each', 'other', 'feel', 'like', 'they', 'belong', 'in', 'this', 'world', 'instead', 'of', 'making', 'them', 'feel', 'isolated', 'out', 'of', 'found', 'this', 'helpful', 'was', 'this', 'review', 'helpful', 'sign', 'into', 'vote']\n",
            "['movie', 'felt', 'alone', 'isolated', 'truly', 'relate', 'understand', 'motive', 'feel', 'sorry', 'character', 'lot', 'people', 'see', 'movie', 'think', 'encourages', 'violence', 'truly', 'movie', 'encourage', 'every', 'one', 'us', 'become', 'better', 'person', 'treat', 'everyone', 'respect', 'make', 'feel', 'like', 'belong', 'world', 'instead', 'making', 'feel', 'isolated', 'found', 'helpful', 'review', 'helpful', 'sign', 'vote']\n",
            "Lemma:  ['movie', 'felt', 'alone', 'isolated', 'truly', 'relate', 'understand', 'motive', 'feel', 'sorry', 'character', 'lot', 'people', 'see', 'movie', 'think', 'encourages', 'violence', 'truly', 'movie', 'encourage', 'every', 'one', 'u', 'become', 'better', 'person', 'treat', 'everyone', 'respect', 'make', 'feel', 'like', 'belong', 'world', 'instead', 'making', 'feel', 'isolated', 'found', 'helpful', 'review', 'helpful', 'sign', 'vote']\n",
            "Tokenize:  ['truly', 'a', 'masterpiece', 'the', 'best', 'hollywood', 'film', 'of', 'one', 'of', 'the', 'best', 'films', 'of', 'the', 'decade', 'and', 'truly', 'the', 'best', 'film', 'to', 'bring', 'a', 'comic', 'book', 'so', 'chillingly', 'and', 'realistically', 'to', 'real', 'ife', 'remarkable', 'direction', 'cinematography', 'music', 'and', 'the', 'acting', 'some', 'people', 'are', 'surprised', 'to', 'find', 'it', 'disturbing', 'and', 'violent', 'but', 'it', 's', 'a', 'necessity', 'and', 'message', 'it', 's', 'about', 'society', 'and', 'reflects', 'those', 'underappreciated', 'unrecognized', 'bullied', 'people', 'proving', 'they', 'can', 'do', 'something', 'too', 'the', 'way', 'it', 'shows', 'class', 'difference', 'corruption', 'and', 'how', 'rich', 'and', 'talented', 'rule', 'others', 'around', 'them', 'is', 'not', 'exaggerated', 'and', 'that', 's', 'what', 'makes', 'it', 'different', 'it', 's', 'believable', 'there', 'could', 'be', 'multiple', 'jokers', 'living', 'in', 'our', 'society', 'that', 'could', 'shake', 'those', 'around', 'them', 'in', 'much', 'bitter', 'way', 'than', 'the', 'film', 'shows', 'making', 'people', 'uncomforting', 'people', 'consider', 'this', 'a', 'wake', 'up', 'call', 'a', 'message', 'but', 'first', 'a', 'film', 'a', 'perfect', 'film', 'out', 'of', 'found', 'this', 'helpful', 'was', 'this', 'review', 'helpful', 'sign', 'into', 'vote']\n",
            "['truly', 'masterpiece', 'best', 'hollywood', 'film', 'one', 'best', 'films', 'decade', 'truly', 'best', 'film', 'bring', 'comic', 'book', 'chillingly', 'realistically', 'real', 'ife', 'remarkable', 'direction', 'cinematography', 'music', 'acting', 'people', 'surprised', 'find', 'disturbing', 'violent', 'necessity', 'message', 'society', 'reflects', 'underappreciated', 'unrecognized', 'bullied', 'people', 'proving', 'something', 'way', 'shows', 'class', 'difference', 'corruption', 'rich', 'talented', 'rule', 'others', 'around', 'exaggerated', 'makes', 'different', 'believable', 'could', 'multiple', 'jokers', 'living', 'society', 'could', 'shake', 'around', 'much', 'bitter', 'way', 'film', 'shows', 'making', 'people', 'uncomforting', 'people', 'consider', 'wake', 'call', 'message', 'first', 'film', 'perfect', 'film', 'found', 'helpful', 'review', 'helpful', 'sign', 'vote']\n",
            "Lemma:  ['truly', 'masterpiece', 'best', 'hollywood', 'film', 'one', 'best', 'film', 'decade', 'truly', 'best', 'film', 'bring', 'comic', 'book', 'chillingly', 'realistically', 'real', 'ife', 'remarkable', 'direction', 'cinematography', 'music', 'acting', 'people', 'surprised', 'find', 'disturbing', 'violent', 'necessity', 'message', 'society', 'reflects', 'underappreciated', 'unrecognized', 'bullied', 'people', 'proving', 'something', 'way', 'show', 'class', 'difference', 'corruption', 'rich', 'talented', 'rule', 'others', 'around', 'exaggerated', 'make', 'different', 'believable', 'could', 'multiple', 'joker', 'living', 'society', 'could', 'shake', 'around', 'much', 'bitter', 'way', 'film', 'show', 'making', 'people', 'uncomforting', 'people', 'consider', 'wake', 'call', 'message', 'first', 'film', 'perfect', 'film', 'found', 'helpful', 'review', 'helpful', 'sign', 'vote']\n",
            "Tokenize:  ['joaquin', 'phoenix', 'gives', 'a', 'tour', 'de', 'force', 'performance', 'fearless', 'and', 'stunning', 'in', 'its', 'emotional', 'depth', 'and', 'physicality', 'it', 's', 'impossible', 'to', 'talk', 'about', 'this', 'without', 'referencing', 'heath', 'ledger', 's', 'oscar', 'winning', 'performance', 'from', 'the', 'dark', 'knight', 'widely', 'considered', 'the', 'definitive', 'live', 'action', 'portrayal', 'of', 'the', 'joker', 'so', 'let', 's', 'talk', 'about', 'it', 'the', 'fact', 'is', 'everyone', 'is', 'going', 'to', 'be', 'stunned', 'by', 'what', 'phoenix', 'accomplishes', 'because', 'it', 's', 'what', 'many', 'thought', 'impossible', 'a', 'portrayal', 'that', 'matches', 'and', 'potentially', 'exceeds', 'that', 'of', 'the', 'dark', 'knight', 's', 'clown', 'prince', 'of', 'crime', 'out', 'of', 'found', 'this', 'helpful', 'was', 'this', 'review', 'helpful', 'sign', 'into', 'vote']\n",
            "['joaquin', 'phoenix', 'gives', 'tour', 'de', 'force', 'performance', 'fearless', 'stunning', 'emotional', 'depth', 'physicality', 'impossible', 'talk', 'without', 'referencing', 'heath', 'ledger', 'oscar', 'winning', 'performance', 'dark', 'knight', 'widely', 'considered', 'definitive', 'live', 'action', 'portrayal', 'joker', 'let', 'talk', 'fact', 'everyone', 'going', 'stunned', 'phoenix', 'accomplishes', 'many', 'thought', 'impossible', 'portrayal', 'matches', 'potentially', 'exceeds', 'dark', 'knight', 'clown', 'prince', 'crime', 'found', 'helpful', 'review', 'helpful', 'sign', 'vote']\n",
            "Lemma:  ['joaquin', 'phoenix', 'give', 'tour', 'de', 'force', 'performance', 'fearless', 'stunning', 'emotional', 'depth', 'physicality', 'impossible', 'talk', 'without', 'referencing', 'heath', 'ledger', 'oscar', 'winning', 'performance', 'dark', 'knight', 'widely', 'considered', 'definitive', 'live', 'action', 'portrayal', 'joker', 'let', 'talk', 'fact', 'everyone', 'going', 'stunned', 'phoenix', 'accomplishes', 'many', 'thought', 'impossible', 'portrayal', 'match', 'potentially', 'exceeds', 'dark', 'knight', 'clown', 'prince', 'crime', 'found', 'helpful', 'review', 'helpful', 'sign', 'vote']\n"
          ],
          "name": "stdout"
        }
      ]
    },
    {
      "cell_type": "code",
      "metadata": {
        "id": "-qapt35UGUhZ",
        "colab_type": "code",
        "colab": {
          "base_uri": "https://localhost:8080/",
          "height": 55
        },
        "outputId": "b8d87355-db4a-4f78-b12c-a46121506881"
      },
      "source": [
        "print(dataset.review[0])"
      ],
      "execution_count": 103,
      "outputs": [
        {
          "output_type": "stream",
          "text": [
            "I was a person that saw all the hype and claims of masterpiece as overreacting and overblown excitement for another Joker based film. I thought this looked solid at best and even a bit too pretentious in the trailer, but in here to say I was incredibly wrong. This is a massive achievement of cinema that's extremely rare in a day and age of cgi nonsense and reboots. While this is somewhat of a reboot of sorts, the standalone origin tale is impeccable from start to finish and echoes resemblance to the best joker origin comics from the past. Joaquin bleeds, sweats, and cries his every drop into this magnificently dedicated performance. Heath Ledger would be proud. This is undoubtedly the greatest acting performance since Heath's joker. The directing and writing is slickly brilliant and the bleak settings and tones are palpable throughout. When this film was over the place was blown away and every audience member was awestruck that they witnessed a film that could still transport them into a character's world and very existence. Believe the hype. This is going to be revered as a transcending masterpiece of cinema.\n"
          ],
          "name": "stdout"
        }
      ]
    },
    {
      "cell_type": "code",
      "metadata": {
        "id": "ba2QTl02AqjO",
        "colab_type": "code",
        "colab": {
          "base_uri": "https://localhost:8080/",
          "height": 55
        },
        "outputId": "8bfb6a11-3b2b-4af6-b4a9-4fdffb19ac9a"
      },
      "source": [
        "print(foo_test[0])"
      ],
      "execution_count": 104,
      "outputs": [
        {
          "output_type": "stream",
          "text": [
            "I was a person that saw all the hype and claims of masterpiece as overreacting and overblown excitement for another Joker based film. I thought this looked solid at best and even a bit too pretentious in the trailer, but in here to say I was incredibly wrong. This is a massive achievement of cinema that's extremely rare in a day and age of cgi nonsense and reboots. While this is somewhat of a reboot of sorts, the standalone origin tale is impeccable from start to finish and echoes resemblance to the best joker origin comics from the past. Joaquin bleeds, sweats, and cries his every drop into this magnificently dedicated performance. Heath Ledger would be proud. This is undoubtedly the greatest acting performance since Heath's joker. The directing and writing is slickly brilliant and the bleak settings and tones are palpable throughout. When this film was over the place was blown away and every audience member was awestruck that they witnessed a film that could still transport them into a character's world and very existence. Believe the hype. This is going to be revered as a transcending masterpiece of cinema.\n"
          ],
          "name": "stdout"
        }
      ]
    },
    {
      "cell_type": "code",
      "metadata": {
        "id": "RJdF4XnOBEQw",
        "colab_type": "code",
        "colab": {}
      },
      "source": [
        ""
      ],
      "execution_count": 104,
      "outputs": []
    },
    {
      "cell_type": "markdown",
      "metadata": {
        "id": "f9R0bc59JOMk",
        "colab_type": "text"
      },
      "source": [
        "To vectorize the reviews, I use 2 methods:\n",
        "- Count Vectorizer\n",
        "- TF-IDF Vectorizer"
      ]
    },
    {
      "cell_type": "code",
      "metadata": {
        "id": "7C--IvX7QJ1c",
        "colab_type": "code",
        "colab": {}
      },
      "source": [
        "from sklearn.feature_extraction.text import CountVectorizer\n"
      ],
      "execution_count": 105,
      "outputs": []
    },
    {
      "cell_type": "code",
      "metadata": {
        "id": "oEfQoJzGQQ2-",
        "colab_type": "code",
        "colab": {
          "base_uri": "https://localhost:8080/",
          "height": 444
        },
        "outputId": "27fb2f03-9ece-41a1-8918-638d03d99702"
      },
      "source": [
        "foo = []\n",
        "foo.append(foo_test[0])\n",
        "foo.append(foo_test[1])\n",
        "count_vec = CountVectorizer()\n",
        "review_count_vec_bin = count_vec.fit_transform(foo)\n",
        "review_count_vec_bin.toarray()"
      ],
      "execution_count": 113,
      "outputs": [
        {
          "output_type": "execute_result",
          "data": {
            "text/plain": [
              "array([[ 0,  0,  1,  1,  0,  1,  1,  0, 12,  1,  1,  2,  1,  1,  1,  1,\n",
              "         1,  2,  1,  2,  1,  1,  1,  0,  1,  0,  1,  1,  1,  1,  2,  1,\n",
              "         0,  1,  1,  1,  0,  1,  1,  0,  1,  0,  1,  1,  0,  0,  1,  0,\n",
              "         2,  1,  1,  1,  0,  0,  3,  1,  1,  0,  2,  0,  1,  1,  0,  0,\n",
              "         0,  0,  2,  0,  1,  0,  1,  2,  0,  1,  3,  1,  2,  6,  0,  1,\n",
              "         3,  1,  1,  1,  0,  1,  2,  1,  0,  0,  0,  0,  1,  6,  0,  2,\n",
              "         0,  1,  1,  1,  1,  1,  2,  0,  1,  1,  0,  0,  1,  0,  1,  0,\n",
              "         1,  1,  1,  1,  1,  0,  0,  0,  0,  1,  1,  0,  0,  0,  1,  0,\n",
              "         1,  0,  1,  0,  1,  0,  1,  1,  1,  1,  1,  0,  1,  1,  4, 10,\n",
              "         1,  1,  7,  1,  0,  1,  0,  0,  4,  1,  1,  0,  1,  1,  1,  0,\n",
              "         0,  1,  0,  1,  0,  5,  0,  0,  1,  1,  0,  1,  0,  1,  1,  1,\n",
              "         1,  0],\n",
              "       [ 1,  1,  0,  0,  1,  0,  1,  2,  2,  0,  0,  0,  2,  0,  0,  0,\n",
              "         0,  0,  0,  1,  0,  0,  0,  1,  0,  1,  0,  2,  0,  1,  0,  0,\n",
              "         1,  0,  0,  0,  1,  0,  0,  1,  0,  1,  0,  0,  1,  1,  0,  1,\n",
              "         1,  0,  0,  0,  1,  1,  0,  0,  0,  1,  1,  1,  0,  0,  1,  1,\n",
              "         1,  1,  0,  2,  0,  1,  0,  0,  1,  0,  2,  0,  1,  1,  3,  1,\n",
              "         0,  0,  0,  0,  1,  0,  0,  0,  1,  1,  2,  1,  0,  1,  1,  0,\n",
              "         1,  0,  0,  0,  0,  0,  1,  1,  0,  0,  1,  1,  0,  1,  0,  1,\n",
              "         0,  0,  0,  0,  0,  1,  1,  1,  1,  0,  0,  1,  1,  1,  0,  1,\n",
              "         0,  1,  0,  1,  0,  1,  0,  0,  0,  0,  0,  1,  0,  0,  1,  2,\n",
              "         0,  0,  3,  0,  1,  0,  1,  1,  1,  0,  0,  1,  0,  0,  0,  1,\n",
              "         1,  0,  1,  0,  1,  1,  1,  1,  0,  1,  3,  0,  1,  0,  0,  0,\n",
              "         0,  1]])"
            ]
          },
          "metadata": {
            "tags": []
          },
          "execution_count": 113
        }
      ]
    },
    {
      "cell_type": "code",
      "metadata": {
        "id": "grG6NX6aXtIy",
        "colab_type": "code",
        "colab": {
          "base_uri": "https://localhost:8080/",
          "height": 1000
        },
        "outputId": "f013b9a7-7379-424f-fd7b-a25201533008"
      },
      "source": [
        "from sklearn.feature_extraction.text import TfidfVectorizer\n",
        "\n",
        "tfidf_vec = TfidfVectorizer()\n",
        "review_tfidf_vec = tfidf_vec.fit_transform(foo)\n",
        "\n",
        "review_tfidf_vec.toarray()"
      ],
      "execution_count": 114,
      "outputs": [
        {
          "output_type": "execute_result",
          "data": {
            "text/plain": [
              "array([[0.        , 0.        , 0.05238881, 0.05238881, 0.        ,\n",
              "        0.05238881, 0.03727507, 0.        , 0.44730083, 0.05238881,\n",
              "        0.05238881, 0.10477762, 0.03727507, 0.05238881, 0.05238881,\n",
              "        0.05238881, 0.05238881, 0.10477762, 0.05238881, 0.07455014,\n",
              "        0.05238881, 0.05238881, 0.05238881, 0.        , 0.05238881,\n",
              "        0.        , 0.05238881, 0.03727507, 0.05238881, 0.03727507,\n",
              "        0.10477762, 0.05238881, 0.        , 0.05238881, 0.05238881,\n",
              "        0.05238881, 0.        , 0.05238881, 0.05238881, 0.        ,\n",
              "        0.05238881, 0.        , 0.05238881, 0.05238881, 0.        ,\n",
              "        0.        , 0.05238881, 0.        , 0.07455014, 0.05238881,\n",
              "        0.05238881, 0.05238881, 0.        , 0.        , 0.15716643,\n",
              "        0.05238881, 0.05238881, 0.        , 0.07455014, 0.        ,\n",
              "        0.05238881, 0.05238881, 0.        , 0.        , 0.        ,\n",
              "        0.        , 0.10477762, 0.        , 0.05238881, 0.        ,\n",
              "        0.05238881, 0.10477762, 0.        , 0.05238881, 0.11182521,\n",
              "        0.05238881, 0.07455014, 0.22365042, 0.        , 0.03727507,\n",
              "        0.15716643, 0.05238881, 0.05238881, 0.05238881, 0.        ,\n",
              "        0.05238881, 0.10477762, 0.05238881, 0.        , 0.        ,\n",
              "        0.        , 0.        , 0.05238881, 0.22365042, 0.        ,\n",
              "        0.10477762, 0.        , 0.05238881, 0.05238881, 0.05238881,\n",
              "        0.05238881, 0.05238881, 0.07455014, 0.        , 0.05238881,\n",
              "        0.05238881, 0.        , 0.        , 0.05238881, 0.        ,\n",
              "        0.05238881, 0.        , 0.05238881, 0.05238881, 0.05238881,\n",
              "        0.05238881, 0.05238881, 0.        , 0.        , 0.        ,\n",
              "        0.        , 0.05238881, 0.05238881, 0.        , 0.        ,\n",
              "        0.        , 0.05238881, 0.        , 0.05238881, 0.        ,\n",
              "        0.05238881, 0.        , 0.05238881, 0.        , 0.05238881,\n",
              "        0.05238881, 0.05238881, 0.05238881, 0.05238881, 0.        ,\n",
              "        0.05238881, 0.05238881, 0.14910028, 0.3727507 , 0.05238881,\n",
              "        0.05238881, 0.26092549, 0.05238881, 0.        , 0.05238881,\n",
              "        0.        , 0.        , 0.14910028, 0.05238881, 0.05238881,\n",
              "        0.        , 0.05238881, 0.05238881, 0.05238881, 0.        ,\n",
              "        0.        , 0.05238881, 0.        , 0.05238881, 0.        ,\n",
              "        0.18637535, 0.        , 0.        , 0.05238881, 0.03727507,\n",
              "        0.        , 0.05238881, 0.        , 0.05238881, 0.05238881,\n",
              "        0.05238881, 0.05238881, 0.        ],\n",
              "       [0.09588451, 0.09588451, 0.        , 0.        , 0.09588451,\n",
              "        0.        , 0.06822262, 0.19176902, 0.13644524, 0.        ,\n",
              "        0.        , 0.        , 0.13644524, 0.        , 0.        ,\n",
              "        0.        , 0.        , 0.        , 0.        , 0.06822262,\n",
              "        0.        , 0.        , 0.        , 0.09588451, 0.        ,\n",
              "        0.09588451, 0.        , 0.13644524, 0.        , 0.06822262,\n",
              "        0.        , 0.        , 0.09588451, 0.        , 0.        ,\n",
              "        0.        , 0.09588451, 0.        , 0.        , 0.09588451,\n",
              "        0.        , 0.09588451, 0.        , 0.        , 0.09588451,\n",
              "        0.09588451, 0.        , 0.09588451, 0.06822262, 0.        ,\n",
              "        0.        , 0.        , 0.09588451, 0.09588451, 0.        ,\n",
              "        0.        , 0.        , 0.09588451, 0.06822262, 0.09588451,\n",
              "        0.        , 0.        , 0.09588451, 0.09588451, 0.09588451,\n",
              "        0.09588451, 0.        , 0.19176902, 0.        , 0.09588451,\n",
              "        0.        , 0.        , 0.09588451, 0.        , 0.13644524,\n",
              "        0.        , 0.06822262, 0.06822262, 0.28765353, 0.06822262,\n",
              "        0.        , 0.        , 0.        , 0.        , 0.09588451,\n",
              "        0.        , 0.        , 0.        , 0.09588451, 0.09588451,\n",
              "        0.19176902, 0.09588451, 0.        , 0.06822262, 0.09588451,\n",
              "        0.        , 0.09588451, 0.        , 0.        , 0.        ,\n",
              "        0.        , 0.        , 0.06822262, 0.09588451, 0.        ,\n",
              "        0.        , 0.09588451, 0.09588451, 0.        , 0.09588451,\n",
              "        0.        , 0.09588451, 0.        , 0.        , 0.        ,\n",
              "        0.        , 0.        , 0.09588451, 0.09588451, 0.09588451,\n",
              "        0.09588451, 0.        , 0.        , 0.09588451, 0.09588451,\n",
              "        0.09588451, 0.        , 0.09588451, 0.        , 0.09588451,\n",
              "        0.        , 0.09588451, 0.        , 0.09588451, 0.        ,\n",
              "        0.        , 0.        , 0.        , 0.        , 0.09588451,\n",
              "        0.        , 0.        , 0.06822262, 0.13644524, 0.        ,\n",
              "        0.        , 0.20466785, 0.        , 0.09588451, 0.        ,\n",
              "        0.09588451, 0.09588451, 0.06822262, 0.        , 0.        ,\n",
              "        0.09588451, 0.        , 0.        , 0.        , 0.09588451,\n",
              "        0.09588451, 0.        , 0.09588451, 0.        , 0.09588451,\n",
              "        0.06822262, 0.09588451, 0.09588451, 0.        , 0.06822262,\n",
              "        0.28765353, 0.        , 0.09588451, 0.        , 0.        ,\n",
              "        0.        , 0.        , 0.09588451]])"
            ]
          },
          "metadata": {
            "tags": []
          },
          "execution_count": 114
        }
      ]
    },
    {
      "cell_type": "code",
      "metadata": {
        "id": "NwkoutO1aEre",
        "colab_type": "code",
        "colab": {}
      },
      "source": [
        ""
      ],
      "execution_count": null,
      "outputs": []
    },
    {
      "cell_type": "code",
      "metadata": {
        "id": "TKknQjSmbMzk",
        "colab_type": "code",
        "colab": {}
      },
      "source": [
        "from sklearn.model_selection import train_test_split\n"
      ],
      "execution_count": null,
      "outputs": []
    },
    {
      "cell_type": "markdown",
      "metadata": {
        "id": "4760FFqHcd0l",
        "colab_type": "text"
      },
      "source": [
        "1. Logistic Regression\n",
        "2. Linear SVC\n",
        "3. Multinomial Naive Bayes\n",
        "4. Random-forest\n",
        "5. (k-nearest neighbor)"
      ]
    }
  ]
}