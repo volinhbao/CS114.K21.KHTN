{
  "nbformat": 4,
  "nbformat_minor": 0,
  "metadata": {
    "colab": {
      "name": "Capstone Project.ipynb",
      "provenance": [],
      "authorship_tag": "ABX9TyOb+nwkaeemZusE12Qc5EPP",
      "include_colab_link": true
    },
    "kernelspec": {
      "name": "python3",
      "display_name": "Python 3"
    }
  },
  "cells": [
    {
      "cell_type": "markdown",
      "metadata": {
        "id": "view-in-github",
        "colab_type": "text"
      },
      "source": [
        "<a href=\"https://colab.research.google.com/github/volinhbao/CS114.K21.KHTN/blob/master/Capstone_Project.ipynb\" target=\"_parent\"><img src=\"https://colab.research.google.com/assets/colab-badge.svg\" alt=\"Open In Colab\"/></a>"
      ]
    },
    {
      "cell_type": "code",
      "metadata": {
        "id": "3QLcEXc2rYzQ",
        "colab_type": "code",
        "colab": {}
      },
      "source": [
        "import pandas as pd\n"
      ],
      "execution_count": 17,
      "outputs": []
    },
    {
      "cell_type": "code",
      "metadata": {
        "id": "gZ88cgX9sP04",
        "colab_type": "code",
        "colab": {
          "base_uri": "https://localhost:8080/",
          "height": 194
        },
        "outputId": "42a5a759-f84b-469f-f7ce-9fcd78b86308"
      },
      "source": [
        "dataset = pd.read_csv('/content/imdb-reviews-dataset.csv',header = 0)\n",
        "dataset.head()"
      ],
      "execution_count": 18,
      "outputs": [
        {
          "output_type": "execute_result",
          "data": {
            "text/html": [
              "<div>\n",
              "<style scoped>\n",
              "    .dataframe tbody tr th:only-of-type {\n",
              "        vertical-align: middle;\n",
              "    }\n",
              "\n",
              "    .dataframe tbody tr th {\n",
              "        vertical-align: top;\n",
              "    }\n",
              "\n",
              "    .dataframe thead th {\n",
              "        text-align: right;\n",
              "    }\n",
              "</style>\n",
              "<table border=\"1\" class=\"dataframe\">\n",
              "  <thead>\n",
              "    <tr style=\"text-align: right;\">\n",
              "      <th></th>\n",
              "      <th>Movie</th>\n",
              "      <th>Title</th>\n",
              "      <th>Review</th>\n",
              "      <th>isPos</th>\n",
              "    </tr>\n",
              "  </thead>\n",
              "  <tbody>\n",
              "    <tr>\n",
              "      <th>0</th>\n",
              "      <td>Joker</td>\n",
              "      <td>As a viewer that actually went to TIFF and wit...</td>\n",
              "      <td>I was a person that saw all the hype and claim...</td>\n",
              "      <td>0</td>\n",
              "    </tr>\n",
              "    <tr>\n",
              "      <th>1</th>\n",
              "      <td>Joker</td>\n",
              "      <td>Outstanding movie with a haunting performance ...</td>\n",
              "      <td>Every once in a while a movie comes, that trul...</td>\n",
              "      <td>0</td>\n",
              "    </tr>\n",
              "    <tr>\n",
              "      <th>2</th>\n",
              "      <td>Joker</td>\n",
              "      <td>Only certain people can relate</td>\n",
              "      <td>This is a movie that only those who have felt ...</td>\n",
              "      <td>0</td>\n",
              "    </tr>\n",
              "    <tr>\n",
              "      <th>3</th>\n",
              "      <td>Joker</td>\n",
              "      <td>Perfect in every aspect.</td>\n",
              "      <td>Truly a masterpiece, The Best Hollywood film o...</td>\n",
              "      <td>0</td>\n",
              "    </tr>\n",
              "    <tr>\n",
              "      <th>4</th>\n",
              "      <td>Joker</td>\n",
              "      <td>MASTERPIECE 😍</td>\n",
              "      <td>Joaquin Phoenix gives a tour de force performa...</td>\n",
              "      <td>0</td>\n",
              "    </tr>\n",
              "  </tbody>\n",
              "</table>\n",
              "</div>"
            ],
            "text/plain": [
              "   Movie  ... isPos\n",
              "0  Joker  ...     0\n",
              "1  Joker  ...     0\n",
              "2  Joker  ...     0\n",
              "3  Joker  ...     0\n",
              "4  Joker  ...     0\n",
              "\n",
              "[5 rows x 4 columns]"
            ]
          },
          "metadata": {
            "tags": []
          },
          "execution_count": 18
        }
      ]
    },
    {
      "cell_type": "code",
      "metadata": {
        "id": "6Dd6Uhi0t1RE",
        "colab_type": "code",
        "colab": {
          "base_uri": "https://localhost:8080/",
          "height": 399
        },
        "outputId": "ce725a15-cc7a-4c99-fac6-c00d69173008"
      },
      "source": [
        "dataset"
      ],
      "execution_count": 19,
      "outputs": [
        {
          "output_type": "execute_result",
          "data": {
            "text/html": [
              "<div>\n",
              "<style scoped>\n",
              "    .dataframe tbody tr th:only-of-type {\n",
              "        vertical-align: middle;\n",
              "    }\n",
              "\n",
              "    .dataframe tbody tr th {\n",
              "        vertical-align: top;\n",
              "    }\n",
              "\n",
              "    .dataframe thead th {\n",
              "        text-align: right;\n",
              "    }\n",
              "</style>\n",
              "<table border=\"1\" class=\"dataframe\">\n",
              "  <thead>\n",
              "    <tr style=\"text-align: right;\">\n",
              "      <th></th>\n",
              "      <th>Movie</th>\n",
              "      <th>Title</th>\n",
              "      <th>Review</th>\n",
              "      <th>isPos</th>\n",
              "    </tr>\n",
              "  </thead>\n",
              "  <tbody>\n",
              "    <tr>\n",
              "      <th>0</th>\n",
              "      <td>Joker</td>\n",
              "      <td>As a viewer that actually went to TIFF and wit...</td>\n",
              "      <td>I was a person that saw all the hype and claim...</td>\n",
              "      <td>0</td>\n",
              "    </tr>\n",
              "    <tr>\n",
              "      <th>1</th>\n",
              "      <td>Joker</td>\n",
              "      <td>Outstanding movie with a haunting performance ...</td>\n",
              "      <td>Every once in a while a movie comes, that trul...</td>\n",
              "      <td>0</td>\n",
              "    </tr>\n",
              "    <tr>\n",
              "      <th>2</th>\n",
              "      <td>Joker</td>\n",
              "      <td>Only certain people can relate</td>\n",
              "      <td>This is a movie that only those who have felt ...</td>\n",
              "      <td>0</td>\n",
              "    </tr>\n",
              "    <tr>\n",
              "      <th>3</th>\n",
              "      <td>Joker</td>\n",
              "      <td>Perfect in every aspect.</td>\n",
              "      <td>Truly a masterpiece, The Best Hollywood film o...</td>\n",
              "      <td>0</td>\n",
              "    </tr>\n",
              "    <tr>\n",
              "      <th>4</th>\n",
              "      <td>Joker</td>\n",
              "      <td>MASTERPIECE 😍</td>\n",
              "      <td>Joaquin Phoenix gives a tour de force performa...</td>\n",
              "      <td>0</td>\n",
              "    </tr>\n",
              "    <tr>\n",
              "      <th>...</th>\n",
              "      <td>...</td>\n",
              "      <td>...</td>\n",
              "      <td>...</td>\n",
              "      <td>...</td>\n",
              "    </tr>\n",
              "    <tr>\n",
              "      <th>6280</th>\n",
              "      <td>Thor: Ragnarok</td>\n",
              "      <td>Bad casting welcome back cheesy movies</td>\n",
              "      <td>This is like the old Batman movies with Jim Ca...</td>\n",
              "      <td>1</td>\n",
              "    </tr>\n",
              "    <tr>\n",
              "      <th>6281</th>\n",
              "      <td>Thor: Ragnarok</td>\n",
              "      <td>Surreal</td>\n",
              "      <td>The Good: Visually I loved pretty much everyth...</td>\n",
              "      <td>1</td>\n",
              "    </tr>\n",
              "    <tr>\n",
              "      <th>6282</th>\n",
              "      <td>Thor: Ragnarok</td>\n",
              "      <td>Identitiy Politics barf</td>\n",
              "      <td>Yeah, it started a few years before, but this ...</td>\n",
              "      <td>1</td>\n",
              "    </tr>\n",
              "    <tr>\n",
              "      <th>6283</th>\n",
              "      <td>Thor: Ragnarok</td>\n",
              "      <td>MCU doesn't suck but this movie SUCKS (get it)</td>\n",
              "      <td>I may be late to review this movie but better ...</td>\n",
              "      <td>1</td>\n",
              "    </tr>\n",
              "    <tr>\n",
              "      <th>6284</th>\n",
              "      <td>Thor: Ragnarok</td>\n",
              "      <td>Overrated movie beyond imagination</td>\n",
              "      <td>Thor sense of humor is like a boy trying so ha...</td>\n",
              "      <td>1</td>\n",
              "    </tr>\n",
              "  </tbody>\n",
              "</table>\n",
              "<p>6285 rows × 4 columns</p>\n",
              "</div>"
            ],
            "text/plain": [
              "               Movie  ... isPos\n",
              "0              Joker  ...     0\n",
              "1              Joker  ...     0\n",
              "2              Joker  ...     0\n",
              "3              Joker  ...     0\n",
              "4              Joker  ...     0\n",
              "...              ...  ...   ...\n",
              "6280  Thor: Ragnarok  ...     1\n",
              "6281  Thor: Ragnarok  ...     1\n",
              "6282  Thor: Ragnarok  ...     1\n",
              "6283  Thor: Ragnarok  ...     1\n",
              "6284  Thor: Ragnarok  ...     1\n",
              "\n",
              "[6285 rows x 4 columns]"
            ]
          },
          "metadata": {
            "tags": []
          },
          "execution_count": 19
        }
      ]
    },
    {
      "cell_type": "markdown",
      "metadata": {
        "id": "BXO0CgVf3iWP",
        "colab_type": "text"
      },
      "source": [
        "Dataset is not skewed\n"
      ]
    },
    {
      "cell_type": "code",
      "metadata": {
        "id": "A3qu8bQOryge",
        "colab_type": "code",
        "colab": {
          "base_uri": "https://localhost:8080/",
          "height": 297
        },
        "outputId": "81e01146-afe9-46ca-a6a7-2614de44c0ba"
      },
      "source": [
        "import seaborn as sns\n",
        "\n",
        "sns.countplot(dataset.isPos)"
      ],
      "execution_count": 20,
      "outputs": [
        {
          "output_type": "execute_result",
          "data": {
            "text/plain": [
              "<matplotlib.axes._subplots.AxesSubplot at 0x7f6d3d1e1198>"
            ]
          },
          "metadata": {
            "tags": []
          },
          "execution_count": 20
        },
        {
          "output_type": "display_data",
          "data": {
            "image/png": "[encoded data removed]",
            "text/plain": [
              "<Figure size 432x288 with 1 Axes>"
            ]
          },
          "metadata": {
            "tags": [],
            "needs_background": "light"
          }
        }
      ]
    },
    {
      "cell_type": "code",
      "metadata": {
        "id": "0zkD2zGDr0is",
        "colab_type": "code",
        "colab": {
          "base_uri": "https://localhost:8080/",
          "height": 106
        },
        "outputId": "90b5b149-6886-4c11-b2dd-93380d3639cb"
      },
      "source": [
        "dataset.isna().sum()"
      ],
      "execution_count": 23,
      "outputs": [
        {
          "output_type": "execute_result",
          "data": {
            "text/plain": [
              "Movie     0\n",
              "Title     0\n",
              "Review    0\n",
              "isPos     0\n",
              "dtype: int64"
            ]
          },
          "metadata": {
            "tags": []
          },
          "execution_count": 23
        }
      ]
    },
    {
      "cell_type": "code",
      "metadata": {
        "id": "rr9sEnMl4gtH",
        "colab_type": "code",
        "colab": {
          "base_uri": "https://localhost:8080/",
          "height": 35
        },
        "outputId": "c714408f-9e66-470b-82f5-253bf9e76190"
      },
      "source": [
        "dataset.shape"
      ],
      "execution_count": 25,
      "outputs": [
        {
          "output_type": "execute_result",
          "data": {
            "text/plain": [
              "(6285, 4)"
            ]
          },
          "metadata": {
            "tags": []
          },
          "execution_count": 25
        }
      ]
    },
    {
      "cell_type": "markdown",
      "metadata": {
        "id": "TlBidzUUAf8_",
        "colab_type": "text"
      },
      "source": [
        "#**Preprocessing**\n",
        "\n"
      ]
    },
    {
      "cell_type": "code",
      "metadata": {
        "id": "UdYMC5wUAfnE",
        "colab_type": "code",
        "colab": {}
      },
      "source": [
        ""
      ],
      "execution_count": null,
      "outputs": []
    }
  ]
}